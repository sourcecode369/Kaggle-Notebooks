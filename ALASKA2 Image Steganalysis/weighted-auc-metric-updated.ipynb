{
 "cells": [
  {
   "cell_type": "markdown",
   "metadata": {},
   "source": [
    "## An implementation of the competition metric\n",
    "\n",
    "This kernel is a clean-up of **Max Jeblick**'s evaluation metric implementation into an easy to use function: https://www.kaggle.com/maxjeblick/alaska2-efficientnet-on-tpus-competition-metric\n",
    "\n",
    "See the [evaluation page](https://www.kaggle.com/c/alaska2-image-steganalysis/overview/evaluation) for more info about the metric!\n",
    "\n",
    "**EDIT:** Changed to reflect the update in evaluation metric of the competition!"
   ]
  },
  {
   "cell_type": "code",
   "execution_count": 1,
   "metadata": {},
   "outputs": [],
   "source": [
    "from sklearn import metrics\n",
    "import numpy as np\n",
    "\n",
    "def alaska_weighted_auc(y_true, y_valid):\n",
    "    tpr_thresholds = [0.0, 0.4, 1.0]\n",
    "    weights =        [       2,   1]\n",
    "    \n",
    "    fpr, tpr, thresholds = metrics.roc_curve(y_true, y_valid, pos_label=1)\n",
    "    \n",
    "    # size of subsets\n",
    "    areas = np.array(tpr_thresholds[1:]) - np.array(tpr_thresholds[:-1])\n",
    "    \n",
    "    # The total area is normalized by the sum of weights such that the final weighted AUC is between 0 and 1.\n",
    "    normalization = np.dot(areas, weights)\n",
    "    \n",
    "    competition_metric = 0\n",
    "    for idx, weight in enumerate(weights):\n",
    "        y_min = tpr_thresholds[idx]\n",
    "        y_max = tpr_thresholds[idx + 1]\n",
    "        mask = (y_min < tpr) & (tpr < y_max)\n",
    "\n",
    "        x_padding = np.linspace(fpr[mask][-1], 1, 100)\n",
    "\n",
    "        x = np.concatenate([fpr[mask], x_padding])\n",
    "        y = np.concatenate([tpr[mask], [y_max] * len(x_padding)])\n",
    "        y = y - y_min # normalize such that curve starts at y=0\n",
    "        score = metrics.auc(x, y)\n",
    "        submetric = score * weight\n",
    "        best_subscore = (y_max - y_min) * weight\n",
    "        competition_metric += submetric\n",
    "        \n",
    "    return competition_metric / normalization"
   ]
  },
  {
   "cell_type": "markdown",
   "metadata": {},
   "source": [
    "## A toy example\n",
    "\n",
    "And a comparison to other evaluation metrics.  \n",
    "We can see here that Weighted AUC gives  more favourable scores than both accuracy and standard AUC (before the metric update, this was even more pronounced! 0.64 AUC become 0.96 weighted AUC)"
   ]
  },
  {
   "cell_type": "code",
   "execution_count": 2,
   "metadata": {},
   "outputs": [],
   "source": [
    "np.random.seed(42)\n",
    "\n",
    "signal = np.random.random(1000)\n",
    "labels = (signal > 0.5).astype(int)\n",
    "preds = np.random.random(1000) + (signal - 0.5) * 0.3"
   ]
  },
  {
   "cell_type": "code",
   "execution_count": 3,
   "metadata": {},
   "outputs": [
    {
     "name": "stdout",
     "output_type": "stream",
     "text": [
      "   Accuracy = 0.564\n",
      "        AUC = 0.64346\n",
      "WeightedAUC = 0.72438\n"
     ]
    }
   ],
   "source": [
    "auc = metrics.roc_auc_score(labels, preds)\n",
    "weighted_auc = alaska_weighted_auc(labels, preds)\n",
    "accuracy = (labels == (preds > 0.5)).mean()\n",
    "\n",
    "print(f'   Accuracy = {round(accuracy, 5)}')\n",
    "print(f'        AUC = {round(auc, 5)}')\n",
    "print(f'WeightedAUC = {round(weighted_auc, 5)}')"
   ]
  },
  {
   "cell_type": "code",
   "execution_count": 4,
   "metadata": {},
   "outputs": [
    {
     "data": {
      "image/png": "[encoded data removed]",
      "text/plain": [
       "<Figure size 432x432 with 1 Axes>"
      ]
     },
     "metadata": {
      "needs_background": "light"
     },
     "output_type": "display_data"
    }
   ],
   "source": [
    "import matplotlib.pyplot as plt\n",
    "fpr, tpr, thresholds = metrics.roc_curve(labels, preds, pos_label=1)\n",
    "\n",
    "plt.figure(figsize=(6, 6))\n",
    "plt.plot(fpr, tpr)\n",
    "plt.xlabel('FPR')\n",
    "plt.ylabel('TPR')\n",
    "plt.title('Example ROC Curve (AUC=0.64, WeightedAUC=0.72)')\n",
    "plt.xlim(0, 1)\n",
    "plt.ylim(0, 1)\n",
    "plt.plot([0, 1], [0, 1], alpha=0.1)\n",
    "plt.show()"
   ]
  },
  {
   "cell_type": "markdown",
   "metadata": {},
   "source": [
    "### Random guessing gives ~0.585 Weighted AUC\n",
    "So this is the score to beat with your models"
   ]
  },
  {
   "cell_type": "code",
   "execution_count": 5,
   "metadata": {},
   "outputs": [
    {
     "data": {
      "text/plain": [
       "0.5858681193492437"
      ]
     },
     "execution_count": 5,
     "metadata": {},
     "output_type": "execute_result"
    }
   ],
   "source": [
    "alaska_weighted_auc(np.random.random(1000000) > 0.5, np.random.random(1000000))"
   ]
  }
 ],
 "metadata": {
  "kernelspec": {
   "display_name": "Python 3",
   "language": "python",
   "name": "python3"
  },
  "language_info": {
   "codemirror_mode": {
    "name": "ipython",
    "version": 3
   },
   "file_extension": ".py",
   "mimetype": "text/x-python",
   "name": "python",
   "nbconvert_exporter": "python",
   "pygments_lexer": "ipython3",
   "version": "3.6.6"
  }
 },
 "nbformat": 4,
 "nbformat_minor": 4
}
