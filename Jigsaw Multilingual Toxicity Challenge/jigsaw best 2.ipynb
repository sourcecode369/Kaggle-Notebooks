{
 "cells": [
  {
   "cell_type": "code",
   "execution_count": 1,
   "metadata": {
    "_cell_guid": "b1076dfc-b9ad-4769-8c92-a6c4dae69d19",
    "_uuid": "8f2839f25d086af736a60e9eeb907d3b93b6e0e5",
    "scrolled": true
   },
   "outputs": [
    {
     "name": "stdout",
     "output_type": "stream",
     "text": [
      "Import done! Time past 8.77 secs\n"
     ]
    }
   ],
   "source": [
    "import time\n",
    "start_time = time.time()\n",
    "\n",
    "import gc\n",
    "gc.enable()\n",
    "import os \n",
    "import numpy as np \n",
    "import pandas as pd \n",
    "import multiprocessing\n",
    "from tqdm.notebook import tqdm \n",
    "from kaggle_datasets import KaggleDatasets \n",
    "\n",
    "import transformers \n",
    "from transformers import (TFAutoModel, \n",
    "                          AutoTokenizer) \n",
    "from tokenizers import (Tokenizer, \n",
    "                        models, \n",
    "                        pre_tokenizers, \n",
    "                        decoders, \n",
    "                        processors, \n",
    "                        BertWordPieceTokenizer, \n",
    "                        SentencePieceBPETokenizer) \n",
    "from transformers import AdamW\n",
    "\n",
    "import tensorflow as tf \n",
    "from tensorflow.keras import backend\n",
    "from tensorflow.keras import backend as K\n",
    "from tensorflow.keras.layers import Dense, Input \n",
    "from tensorflow.keras.optimizers import Adam \n",
    "from tensorflow.keras.models import Model \n",
    "from tensorflow.keras.callbacks import ModelCheckpoint \n",
    "tf.config.experimental_run_functions_eagerly(False)\n",
    "from tensorflow.keras.mixed_precision import experimental as mixed_precision\n",
    "\n",
    "from nltk.tokenize.treebank import TreebankWordTokenizer\n",
    "Ttokenizer = TreebankWordTokenizer()\n",
    "\n",
    "from sklearn.metrics import roc_auc_score as roc, accuracy_score\n",
    "from sklearn.model_selection import KFold, StratifiedKFold, GroupKFold\n",
    "\n",
    "import warnings\n",
    "warnings.simplefilter(\"ignore\")\n",
    "print('Import done! Time past %.2f secs' % (time.time() - start_time))"
   ]
  },
  {
   "cell_type": "code",
   "execution_count": 2,
   "metadata": {},
   "outputs": [
    {
     "name": "stdout",
     "output_type": "stream",
     "text": [
      "Running on TPU  grpc://10.0.0.2:8470\n",
      "REPLICAS:  8\n"
     ]
    }
   ],
   "source": [
    "try:\n",
    "    tpu = tf.distribute.cluster_resolver.TPUClusterResolver()\n",
    "    print('Running on TPU ', tpu.master())\n",
    "except ValueError:\n",
    "    tpu = None\n",
    "if tpu:\n",
    "    tf.config.experimental_connect_to_cluster(tpu)\n",
    "    tf.tpu.experimental.initialize_tpu_system(tpu)\n",
    "    strategy = tf.distribute.experimental.TPUStrategy(tpu)\n",
    "else:\n",
    "    strategy = tf.distribute.get_strategy()\n",
    "\n",
    "print(\"REPLICAS: \", strategy.num_replicas_in_sync)"
   ]
  },
  {
   "cell_type": "code",
   "execution_count": 3,
   "metadata": {},
   "outputs": [],
   "source": [
    "# USE_FLOAT16 = True\n",
    "# XLA_ACCELERATE = False\n",
    "# if USE_FLOAT16:\n",
    "#     if tpu: \n",
    "#         policy = tf.keras.mixed_precision.experimental.Policy('mixed_bfloat16')\n",
    "#     else: \n",
    "#         policy = tf.keras.mixed_precision.experimental.Policy('mixed_float16')\n",
    "#     mixed_precision.set_policy(policy)\n",
    "#     print('Mixed precision enabled')\n",
    "\n",
    "# if XLA_ACCELERATE:\n",
    "#     tf.config.optimizer.set_jit(True)\n",
    "#     print('Accelerated Linear Algebra enabled')"
   ]
  },
  {
   "cell_type": "code",
   "execution_count": 4,
   "metadata": {},
   "outputs": [],
   "source": [
    "def binary_focal_loss(gamma=2., alpha=.25):\n",
    "    def binary_focal_loss_fixed(y_true, y_pred):\n",
    "        pt_1 = tf.where(tf.equal(y_true, 1), y_pred, tf.ones_like(y_pred))\n",
    "        pt_0 = tf.where(tf.equal(y_true, 0), y_pred, tf.zeros_like(y_pred))\n",
    "        epsilon = K.epsilon()\n",
    "        pt_1 = K.clip(pt_1, epsilon, 1. - epsilon)\n",
    "        pt_0 = K.clip(pt_0, epsilon, 1. - epsilon)\n",
    "        return -K.sum(alpha * K.pow(1. - pt_1, gamma) * K.log(pt_1)) \\\n",
    "               -K.sum((1 - alpha) * K.pow(pt_0, gamma) * K.log(1. - pt_0))\n",
    "    return binary_focal_loss_fixed"
   ]
  },
  {
   "cell_type": "code",
   "execution_count": 5,
   "metadata": {},
   "outputs": [],
   "source": [
    "def transform(tensor):\n",
    "    apool = backend.mean(tensor, 1)\n",
    "    mpool = backend.max(tensor, 1)\n",
    "    cat = backend.concatenate((apool, mpool), 1)\n",
    "    return cat\n",
    "\n",
    "def build_model(transformer, max_len=192):\n",
    "    ids = tf.keras.layers.Input((max_len,), dtype=tf.int32)\n",
    "    att = tf.keras.layers.Input((max_len,), dtype=tf.int32)\n",
    "    tok = tf.keras.layers.Input((max_len,), dtype=tf.int32)\n",
    "    o1, o2 = transformer(ids,attention_mask=att,token_type_ids=tok)\n",
    "#     lam = tf.keras.layers.Lambda(transform, name='transform')(o1)\n",
    "#     drop = tf.keras.layers.Dropout(0.2)(lam)\n",
    "    out = Dense(1, activation='sigmoid',\n",
    "                kernel_initializer=tf.keras.initializers.GlorotUniform(),\n",
    "                bias_initializer=tf.keras.initializers.Zeros())(o1[:,0,:])\n",
    "    model = Model(inputs=[ids, att, tok], outputs=out)\n",
    "    model.compile(Adam(lr=1e-5), loss=\"binary_crossentropy\", metrics=['accuracy', tf.keras.metrics.AUC()])\n",
    "    return model"
   ]
  },
  {
   "cell_type": "code",
   "execution_count": 6,
   "metadata": {},
   "outputs": [
    {
     "data": {
      "application/vnd.jupyter.widget-view+json": {
       "model_id": "b90994998f204a479026c29136e16202",
       "version_major": 2,
       "version_minor": 0
      },
      "text/plain": [
       "HBox(children=(FloatProgress(value=0.0, description='Downloading', max=513.0, style=ProgressStyle(description_…"
      ]
     },
     "metadata": {},
     "output_type": "display_data"
    },
    {
     "name": "stdout",
     "output_type": "stream",
     "text": [
      "\n"
     ]
    },
    {
     "data": {
      "application/vnd.jupyter.widget-view+json": {
       "model_id": "02ad9753d0c14e98aee66fd3b15a6e2d",
       "version_major": 2,
       "version_minor": 0
      },
      "text/plain": [
       "HBox(children=(FloatProgress(value=0.0, description='Downloading', max=5069051.0, style=ProgressStyle(descript…"
      ]
     },
     "metadata": {},
     "output_type": "display_data"
    },
    {
     "name": "stdout",
     "output_type": "stream",
     "text": [
      "\n"
     ]
    }
   ],
   "source": [
    "MAX_LEN = 192\n",
    "MODEL = 'jplu/tf-xlm-roberta-large'\n",
    "tokenizer = AutoTokenizer.from_pretrained(MODEL)"
   ]
  },
  {
   "cell_type": "code",
   "execution_count": 7,
   "metadata": {},
   "outputs": [],
   "source": [
    "train1 = pd.read_csv(\"/kaggle/input/jigsaw-multilingual-toxic-comment-classification/jigsaw-toxic-comment-train.csv\")\n",
    "train2 = pd.read_csv(\"/kaggle/input/jigsaw-multilingual-toxic-comment-classification/jigsaw-unintended-bias-train.csv\")\n",
    "train2.toxic = train2.toxic.round().astype(int)\n",
    "\n",
    "valid = pd.read_csv('/kaggle/input/jigsaw-multilingual-toxic-comment-classification/validation.csv')\n",
    "test = pd.read_csv('/kaggle/input/jigsaw-multilingual-toxic-comment-classification/test.csv')\n",
    "sub = pd.read_csv('/kaggle/input/jigsaw-multilingual-toxic-comment-classification/sample_submission.csv')"
   ]
  },
  {
   "cell_type": "code",
   "execution_count": 8,
   "metadata": {},
   "outputs": [],
   "source": [
    "train = pd.concat([\n",
    "    train1[['comment_text', 'toxic']],\n",
    "    train2[['comment_text', 'toxic']].query('toxic==1'),\n",
    "    train2[['comment_text', 'toxic']].query('toxic==0').sample(n=250465, random_state=0)\n",
    "])"
   ]
  },
  {
   "cell_type": "code",
   "execution_count": 9,
   "metadata": {},
   "outputs": [],
   "source": [
    "def regular_encode(texts, tokenizer, maxlen=512):\n",
    "    enc_di = tokenizer.batch_encode_plus(\n",
    "        texts, \n",
    "        return_attention_masks=True, \n",
    "        return_token_type_ids=True,\n",
    "        pad_to_max_length=True,\n",
    "        max_length=maxlen\n",
    "    )    \n",
    "    return np.array(enc_di['input_ids']), np.array(enc_di['attention_mask']), np.array(enc_di['token_type_ids'])"
   ]
  },
  {
   "cell_type": "code",
   "execution_count": 10,
   "metadata": {},
   "outputs": [],
   "source": [
    "input_ids, input_mask, input_type_ids = regular_encode(train.comment_text.values, tokenizer, maxlen=MAX_LEN)\n",
    "input_ids_v, input_mask_v, input_type_ids_v = regular_encode(valid.comment_text.values, tokenizer, maxlen=MAX_LEN)\n",
    "input_ids_t, input_mask_t, input_type_ids_t = regular_encode(test.content.values, tokenizer, maxlen=MAX_LEN)\n",
    "\n",
    "y_train = train.toxic.values\n",
    "y_valid = valid.toxic.values"
   ]
  },
  {
   "cell_type": "code",
   "execution_count": 11,
   "metadata": {},
   "outputs": [
    {
     "data": {
      "text/plain": [
       "20"
      ]
     },
     "execution_count": 11,
     "metadata": {},
     "output_type": "execute_result"
    }
   ],
   "source": [
    "del train, train1, train2, valid, test\n",
    "VER = 'large'\n",
    "tf.compat.v1.reset_default_graph()\n",
    "backend.clear_session()\n",
    "gc.collect()"
   ]
  },
  {
   "cell_type": "code",
   "execution_count": 12,
   "metadata": {},
   "outputs": [
    {
     "data": {
      "application/vnd.jupyter.widget-view+json": {
       "model_id": "f65c174c80df457b957628841548b91e",
       "version_major": 2,
       "version_minor": 0
      },
      "text/plain": [
       "HBox(children=(FloatProgress(value=0.0, description='Downloading', max=3271420488.0, style=ProgressStyle(descr…"
      ]
     },
     "metadata": {},
     "output_type": "display_data"
    },
    {
     "name": "stdout",
     "output_type": "stream",
     "text": [
      "\n",
      "Model: \"model\"\n",
      "__________________________________________________________________________________________________\n",
      "Layer (type)                    Output Shape         Param #     Connected to                     \n",
      "==================================================================================================\n",
      "input_1 (InputLayer)            [(None, 192)]        0                                            \n",
      "__________________________________________________________________________________________________\n",
      "input_2 (InputLayer)            [(None, 192)]        0                                            \n",
      "__________________________________________________________________________________________________\n",
      "input_3 (InputLayer)            [(None, 192)]        0                                            \n",
      "__________________________________________________________________________________________________\n",
      "tf_roberta_model (TFRobertaMode ((None, 192, 1024),  559890432   input_1[0][0]                    \n",
      "__________________________________________________________________________________________________\n",
      "tf_op_layer_strided_slice (Tens [(None, 1024)]       0           tf_roberta_model[0][0]           \n",
      "__________________________________________________________________________________________________\n",
      "dense (Dense)                   (None, 1)            1025        tf_op_layer_strided_slice[0][0]  \n",
      "==================================================================================================\n",
      "Total params: 559,891,457\n",
      "Trainable params: 559,891,457\n",
      "Non-trainable params: 0\n",
      "__________________________________________________________________________________________________\n",
      "CPU times: user 1min 58s, sys: 37 s, total: 2min 35s\n",
      "Wall time: 2min 36s\n"
     ]
    }
   ],
   "source": [
    "%%time\n",
    "with strategy.scope():\n",
    "    transformer_layer = TFAutoModel.from_pretrained(MODEL)\n",
    "    model = build_model(transformer_layer, max_len=MAX_LEN)\n",
    "model.summary()"
   ]
  },
  {
   "cell_type": "code",
   "execution_count": 13,
   "metadata": {},
   "outputs": [
    {
     "name": "stdout",
     "output_type": "stream",
     "text": [
      "Train on 586240 samples, validate on 8000 samples\n",
      "Epoch 1/4\n",
      "586112/586240 [============================>.] - ETA: 0s - loss: 0.1811 - accuracy: 0.9244 - auc: 0.9705\n",
      "Epoch 00001: val_loss improved from inf to 0.30436, saving model to xlm-roberta-large.h5\n",
      "586240/586240 [==============================] - 2070s 4ms/sample - loss: 0.1811 - accuracy: 0.9244 - auc: 0.9705 - val_loss: 0.3044 - val_accuracy: 0.8766 - val_auc: 0.9101\n",
      "Epoch 2/4\n",
      "586112/586240 [============================>.] - ETA: 0s - loss: 0.1494 - accuracy: 0.9373 - auc: 0.9800\n",
      "Epoch 00002: val_loss did not improve from 0.30436\n",
      "586240/586240 [==============================] - 1864s 3ms/sample - loss: 0.1494 - accuracy: 0.9373 - auc: 0.9800 - val_loss: 0.3557 - val_accuracy: 0.8748 - val_auc: 0.8948\n",
      "Epoch 3/4\n",
      "586112/586240 [============================>.] - ETA: 0s - loss: 0.1337 - accuracy: 0.9440 - auc: 0.9840\n",
      "Epoch 00003: val_loss did not improve from 0.30436\n",
      "Restoring model weights from the end of the best epoch.\n",
      "586240/586240 [==============================] - 1891s 3ms/sample - loss: 0.1338 - accuracy: 0.9440 - auc: 0.9840 - val_loss: 0.3594 - val_accuracy: 0.8770 - val_auc: 0.8933\n",
      "Epoch 00003: early stopping\n"
     ]
    }
   ],
   "source": [
    "VER = 'large'\n",
    "sv = tf.keras.callbacks.ModelCheckpoint(\n",
    "        'xlm-roberta-%s.h5'%(VER), monitor='val_loss', verbose=1, save_best_only=True,\n",
    "        save_weights_only=True, mode='auto', save_freq='epoch')\n",
    "\n",
    "es = tf.keras.callbacks.EarlyStopping(monitor='val_loss', verbose=1, patience=2,\n",
    "                                      restore_best_weights=True, mode='auto')\n",
    "\n",
    "train_history = model.fit([input_ids, input_mask, input_type_ids], [y_train], \n",
    "                    epochs=4, batch_size=128, verbose=1, callbacks=[sv, es],\n",
    "                    validation_data=([input_ids_v, input_mask_v, input_type_ids_v], [y_valid]))"
   ]
  },
  {
   "cell_type": "code",
   "execution_count": 14,
   "metadata": {},
   "outputs": [
    {
     "name": "stdout",
     "output_type": "stream",
     "text": [
      "Train on 8000 samples\n",
      "Epoch 1/5\n",
      "8000/8000 [==============================] - 162s 20ms/sample - loss: 0.2204 - accuracy: 0.8993 - auc: 0.9324\n",
      "Epoch 2/5\n",
      "8000/8000 [==============================] - 35s 4ms/sample - loss: 0.1488 - accuracy: 0.9361 - auc: 0.9716\n",
      "Epoch 3/5\n",
      "8000/8000 [==============================] - 35s 4ms/sample - loss: 0.1023 - accuracy: 0.9568 - auc: 0.9861\n",
      "Epoch 4/5\n",
      "8000/8000 [==============================] - 35s 4ms/sample - loss: 0.0640 - accuracy: 0.9744 - auc: 0.9952\n",
      "Epoch 5/5\n",
      "8000/8000 [==============================] - 35s 4ms/sample - loss: 0.0376 - accuracy: 0.9860 - auc: 0.9980\n"
     ]
    }
   ],
   "source": [
    "valid_history = model.fit([input_ids_v, input_mask_v, input_type_ids_v], [y_valid], \n",
    "                    epochs=5, batch_size=64, verbose=1, callbacks=[sv, es],\n",
    "                    validation_data=None)"
   ]
  },
  {
   "cell_type": "code",
   "execution_count": 15,
   "metadata": {},
   "outputs": [
    {
     "name": "stdout",
     "output_type": "stream",
     "text": [
      "63812/63812 [==============================] - 131s 2ms/sample\n"
     ]
    }
   ],
   "source": [
    "preds = model.predict([input_ids_t, input_mask_t, input_type_ids_t], verbose=1, batch_size=64)\n",
    "sample = pd.read_csv('../input/jigsaw-multilingual-toxic-comment-classification/sample_submission.csv')\n",
    "sample.toxic = preds\n",
    "sample.to_csv('submission.csv',index=False)"
   ]
  },
  {
   "cell_type": "code",
   "execution_count": 16,
   "metadata": {},
   "outputs": [],
   "source": [
    "# train_history = model.fit(\n",
    "#     train_dataset,\n",
    "#     steps_per_epoch=n_steps,\n",
    "#     validation_data=valid_dataset,\n",
    "#     epochs=EPOCHS\n",
    "# )"
   ]
  },
  {
   "cell_type": "code",
   "execution_count": 17,
   "metadata": {
    "scrolled": true
   },
   "outputs": [],
   "source": [
    "# VER = 'large'\n",
    "# tf.tpu.experimental.initialize_tpu_system(tpu)\n",
    "# tf.compat.v1.reset_default_graph()\n",
    "# backend.clear_session()\n",
    "# gc.collect()\n",
    "# with strategy.scope():\n",
    "#     transformer = TFAutoModel.from_pretrained(\"jplu/tf-xlm-roberta-large\")\n",
    "#     model = build_model(transformer, max_len=196)\n",
    "\n",
    "# sv = tf.keras.callbacks.ModelCheckpoint(\n",
    "#         'xlm-roberta-%s.h5'%(VER), monitor='val_loss', verbose=1, save_best_only=True,\n",
    "#         save_weights_only=True, mode='auto', save_freq='epoch')\n",
    "# es = tf.keras.callbacks.EarlyStopping(monitor='val_loss', verbose=1, patience=2,\n",
    "#                                       restore_best_weights=True, mode='auto')\n",
    "# train_history = model.fit([input_ids, input_mask, input_type_ids], [y_train], \n",
    "#                     epochs=5, abatch_size=128, verbose=1, callbacks=[sv,es],\n",
    "#                     validation_split=0.1)"
   ]
  },
  {
   "cell_type": "code",
   "execution_count": 18,
   "metadata": {
    "scrolled": true
   },
   "outputs": [],
   "source": [
    "# start_time = time.time()\n",
    "# EPOCHS = 2\n",
    "# VERBOSE = 1\n",
    "# BATCH_SIZE = 128\n",
    "# MAX_LEN = 196\n",
    "# VER = 'large'\n",
    "# oof = np.zeros((input_ids.shape[0],1))\n",
    "# preds = np.zeros((input_ids_t.shape[0],1))\n",
    "# skf = StratifiedKFold(n_splits=4, shuffle=True, random_state=2020)\n",
    "\n",
    "# for fold,(idxT, idxV) in enumerate(skf.split(input_ids, input_y)):\n",
    "#     ft = time.time()\n",
    "#     print('#'*25)\n",
    "#     print('### FOLD %i'%(fold+1))\n",
    "#     print('#'*25)\n",
    "    \n",
    "#     tf.tpu.experimental.initialize_tpu_system(tpu)\n",
    "#     backend.clear_session()\n",
    "#     tf.compat.v1.reset_default_graph()\n",
    "    \n",
    "#     print('Building Model...')\n",
    "#     st = time.time()\n",
    "#     with strategy.scope():\n",
    "#         transformer = TFAutoModel.from_pretrained(\"jplu/tf-xlm-roberta-large\")\n",
    "#         model = build_model(transformer, max_len=196)\n",
    "#     print('Building Model Done! Time past %.2f secs' % (time.time() - st))\n",
    "#     print()\n",
    "    \n",
    "#     sv = tf.keras.callbacks.ModelCheckpoint(\n",
    "#         'xlm-roberta-%s.h5'%(VER), monitor='val_loss', verbose=1, save_best_only=True,\n",
    "#         save_weights_only=True, mode='auto', save_freq='epoch')\n",
    "#     es = tf.keras.callbacks.EarlyStopping(monitor='val_loss', verbose=1, patience=1,\n",
    "#                                           restore_best_weights=True, mode='auto')\n",
    "#     train_history = model.fit([input_ids[idxT,], input_mask[idxT,], input_type_ids[idxT,]], [input_y[idxT]], \n",
    "#                     epochs=EPOCHS, batch_size=BATCH_SIZE, verbose=VERBOSE, callbacks=[sv],\n",
    "#                     validation_data=([input_ids[idxV,],input_mask[idxV,],input_type_ids[idxV,]], \n",
    "#                     [input_y[idxV]]))\n",
    "    \n",
    "#     print()\n",
    "#     print('Loading model...')\n",
    "#     model.load_weights('xlm-roberta-%s.h5'%(VER))\n",
    "    \n",
    "#     print('Predicting OOF...')\n",
    "#     oof[idxV] = model.predict([input_ids[idxV,],input_mask[idxV,],input_type_ids[idxV,]],verbose=VERBOSE, batch_size=50)\n",
    "    \n",
    "#     print('Predicting Test...')\n",
    "#     preds += model.predict([input_ids_t, input_mask_t, input_type_ids_t],verbose=VERBOSE, batch_size=64)/skf.n_splits\n",
    "    \n",
    "#     del model, transformer\n",
    "#     gc.collect()\n",
    "    \n",
    "#     print('>>>> FOLD %i ROC AUC ='%(fold+1),roc(input_y[idxV], oof[idxV]))\n",
    "    \n",
    "#     print(f'Fold {fold} completed. Time past %.2f secs'%(time.time()-ft))\n",
    "#     print()\n",
    "    \n",
    "# print('Training Done! Time past %.2f secs' % (time.time() - start_time))"
   ]
  },
  {
   "cell_type": "code",
   "execution_count": 19,
   "metadata": {
    "scrolled": true
   },
   "outputs": [],
   "source": [
    "# sample = pd.read_csv('../input/jigsaw-multilingual-toxic-comment-classification/sample_submission.csv')\n",
    "# sample.toxic = preds\n",
    "# sample.to_csv('submission.csv',index=False)"
   ]
  },
  {
   "cell_type": "markdown",
   "execution_count": null,
   "metadata": {},
   "source": [
    "Batch Size / GPU = 16 on 8 GPUs (Effective BS = 128)\n",
    "Adam with a LR of 0.000005\n",
    "We run validation after each epoch - where the epoch consists of 5K batches with data randomly sampled from the training set - and select the checkpoint with the best validation set result. This is quite important.\n",
    "We run training for 30 epochs with early stopping (stop if the validation accuracy has not improved for 5 epochs) where epoch is defined as above."
   ]
  },
  {
   "cell_type": "code",
   "execution_count": 20,
   "metadata": {
    "scrolled": true
   },
   "outputs": [],
   "source": [
    "# with strategy.scope():\n",
    "#     transformer = TFAutoModel.from_pretrained(\"jplu/tf-xlm-roberta-base\")\n",
    "#     model = build_model(transformer, max_len=196)"
   ]
  },
  {
   "cell_type": "code",
   "execution_count": 21,
   "metadata": {
    "scrolled": true
   },
   "outputs": [],
   "source": [
    "# EPOCHS = 5\n",
    "# VERBOSE = 1\n",
    "# BATCH_SIZE = 100\n",
    "\n",
    "# train_history = model.fit(\n",
    "#     [train_ids, train_mask, train_type_ids],\n",
    "#     [y_train],\n",
    "#     batch_size=BATCH_SIZE,\n",
    "#     epochs=EPOCHS,    \n",
    "#     validation_data=([valid_ids, valid_mask, valid_type_ids ], [y_valid]),\n",
    "#     verbose=VERBOSE\n",
    "# )"
   ]
  },
  {
   "cell_type": "code",
   "execution_count": 22,
   "metadata": {
    "scrolled": true
   },
   "outputs": [],
   "source": [
    "# model.evaluate([valid_ids, valid_mask, valid_type_ids ], [y_valid])\n",
    "# preds = model.predict([valid_ids, valid_mask, valid_type_ids ])\n",
    "# from sklearn.metrics import roc_auc_score as roc\n",
    "# roc(y_valid, preds)"
   ]
  },
  {
   "cell_type": "markdown",
   "execution_count": null,
   "metadata": {},
   "source": [
    "## Results"
   ]
  },
  {
   "cell_type": "markdown",
   "execution_count": null,
   "metadata": {},
   "source": [
    "### Selected model - \n",
    "\n",
    "<p style=\"color:darkgreen;font-size:18px;font-style:italic\"><b>Batch size 100, Seq Length 196, Learning Rate 3e-5 </b></p>\n",
    "\n",
    "    Train on 50000 samples, validate on 4484 samples\n",
    "    Epoch 1/5\n",
    "    50000/50000 [==============================] - 239s 5ms/sample - loss: 0.3019 - accuracy: 0.8668 - val_loss: 0.3219 - val_accuracy: 0.9012\n",
    "    Epoch 2/5\n",
    "    50000/50000 [==============================] - 100s 2ms/sample - loss: 0.2005 - accuracy: 0.9152 - val_loss: 0.2922 - val_accuracy: 0.9092\n",
    "    Epoch 3/5\n",
    "    50000/50000 [==============================] - 102s 2ms/sample - loss: 0.1634 - accuracy: 0.9314 - val_loss: 0.2704 - val_accuracy: 0.9061\n",
    "    Epoch 4/5\n",
    "    50000/50000 [==============================] - 102s 2ms/sample - loss: 0.1328 - accuracy: 0.9455 - val_loss: 0.2231 - val_accuracy: 0.9088\n",
    "    Epoch 5/5\n",
    "    50000/50000 [==============================] - 103s 2ms/sample - loss: 0.1057 - accuracy: 0.9565 - val_loss: 0.2250 - val_accuracy: 0.9045"
   ]
  },
  {
   "cell_type": "markdown",
   "execution_count": null,
   "metadata": {},
   "source": [
    "Train on 50000 samples, validate on 4484 samples\n",
    "\n",
    "    Epoch 1/5\n",
    "    50000/50000 [==============================] - 187s 4ms/sample - loss: 0.2961 - accuracy: 0.8722 - auc: 0.9471 - val_loss: 0.3097 - val_accuracy: 0.8965 - val_auc: 0.9708\n",
    "    Epoch 2/5\n",
    "    50000/50000 [==============================] - 101s 2ms/sample - loss: 0.2044 - accuracy: 0.9143 - auc: 0.9742 - val_loss: 0.2766 - val_accuracy: 0.9110 - val_auc: 0.9730\n",
    "    Epoch 3/5\n",
    "    50000/50000 [==============================] - 100s 2ms/sample - loss: 0.1664 - accuracy: 0.9313 - auc: 0.9826 - val_loss: 0.2308 - val_accuracy: 0.9112 - val_auc: 0.9741\n",
    "    Epoch 4/5\n",
    "    50000/50000 [==============================] - 100s 2ms/sample - loss: 0.1403 - accuracy: 0.9423 - auc: 0.9873 - val_loss: 0.2434 - val_accuracy: 0.9070 - val_auc: 0.9713\n",
    "    Epoch 5/5\n",
    "    50000/50000 [==============================] - 100s 2ms/sample - loss: 0.1111 - accuracy: 0.9563 - auc: 0.9918 - val_loss: 0.2170 - val_accuracy: 0.9066 - val_auc: 0.9730"
   ]
  },
  {
   "cell_type": "markdown",
   "execution_count": null,
   "metadata": {},
   "source": [
    "4484/4484 [==============================] - 19s 4ms/sample - loss: 0.2173 - accuracy: 0.9066 - auc: 0.9730\n",
    "            \n",
    "0.9730803671701838"
   ]
  },
  {
   "cell_type": "markdown",
   "execution_count": null,
   "metadata": {},
   "source": [
    "### Experimenting with Models"
   ]
  },
  {
   "cell_type": "markdown",
   "execution_count": null,
   "metadata": {},
   "source": [
    "### Batch size 200, Seq Length 196\n",
    "    Train on 50000 samples, validate on 4484 samples\n",
    "    Epoch 1/3\n",
    "    50000/50000 [==============================] - 156s 3ms/sample - loss: 0.3874 - accuracy: 0.8212 - val_loss: 0.3751 - val_accuracy: 0.8539\n",
    "    Epoch 2/3\n",
    "    50000/50000 [==============================] - 57s 1ms/sample - loss: 0.2459 - accuracy: 0.8970 - val_loss: 0.3186 - val_accuracy: 0.8831\n",
    "    Epoch 3/3\n",
    "    50000/50000 [==============================] - 57s 1ms/sample - loss: 0.2128 - accuracy: 0.9117 - val_loss: 0.2848 - val_accuracy: 0.8934\n"
   ]
  },
  {
   "cell_type": "markdown",
   "execution_count": null,
   "metadata": {},
   "source": [
    "### Batch size 100, Seq Length 196, Dropout 0.3 \n",
    "\n",
    "    Train on 50000 samples, validate on 4484 samples\n",
    "    Epoch 1/3\n",
    "    50000/50000 [==============================] - 198s 4ms/sample - loss: 0.3514 - accuracy: 0.8440 - val_loss: 0.2428 - val_accuracy: 0.9003\n",
    "    Epoch 2/3\n",
    "    50000/50000 [==============================] - 100s 2ms/sample - loss: 0.2392 - accuracy: 0.9009 - val_loss: 0.2402 - val_accuracy: 0.9066\n",
    "    Epoch 3/3\n",
    "    50000/50000 [==============================] - 100s 2ms/sample - loss: 0.2062 - accuracy: 0.9134 - val_loss: 0.2132 - val_accuracy: 0.9088"
   ]
  },
  {
   "cell_type": "markdown",
   "execution_count": null,
   "metadata": {},
   "source": [
    "### Batch size 100, Seq Length 196, Learning Rate 3e-5 - Best Model\n",
    "\n",
    "    Train on 50000 samples, validate on 4484 samples\n",
    "    Epoch 1/3\n",
    "    50000/50000 [==============================] - 187s 4ms/sample - loss: 0.2952 - accuracy: 0.8719 - val_loss: 0.2591 - val_accuracy: 0.9019\n",
    "    Epoch 2/3\n",
    "    50000/50000 [==============================] - 100s 2ms/sample - loss: 0.2019 - accuracy: 0.9158 - val_loss: 0.2485 - val_accuracy: 0.9106\n",
    "    Epoch 3/3\n",
    "    50000/50000 [==============================] - 100s 2ms/sample - loss: 0.1650 - accuracy: 0.9331 - val_loss: 0.2188 - val_accuracy: 0.9099"
   ]
  },
  {
   "cell_type": "markdown",
   "execution_count": null,
   "metadata": {},
   "source": [
    "### Batch size 100, Seq Length 196 - Best Model\n",
    "\n",
    "    Train on 50000 samples, validate on 4484 samples\n",
    "    Epoch 1/3\n",
    "    50000/50000 [==============================] - 204s 4ms/sample - loss: 0.3417 - accuracy: 0.8490 - val_loss: 0.2572 - val_accuracy: 0.9034\n",
    "    Epoch 2/3\n",
    "    50000/50000 [==============================] - 100s 2ms/sample - loss: 0.2305 - accuracy: 0.9037 - val_loss: 0.2574 - val_accuracy: 0.9045\n",
    "    Epoch 3/3\n",
    "    50000/50000 [==============================] - 100s 2ms/sample - loss: 0.2002 - accuracy: 0.9171 - val_loss: 0.2275 - val_accuracy: 0.9112"
   ]
  },
  {
   "cell_type": "markdown",
   "execution_count": null,
   "metadata": {},
   "source": [
    "### Batch size 100, Seq Length 256\n",
    "    Train on 50000 samples, validate on 4484 samples\n",
    "    Epoch 1/3\n",
    "    50000/50000 [==============================] - 206s 4ms/sample - loss: 0.4001 - accuracy: 0.8248 - val_loss: 0.3113 - val_accuracy: 0.8758\n",
    "    Epoch 2/3\n",
    "    50000/50000 [==============================] - 107s 2ms/sample - loss: 0.2505 - accuracy: 0.8959 - val_loss: 0.2523 - val_accuracy: 0.9028\n",
    "    Epoch 3/3\n",
    "    50000/50000 [==============================] - 106s 2ms/sample - loss: 0.2132 - accuracy: 0.9118 - val_loss: 0.2587 - val_accuracy: 0.8992"
   ]
  },
  {
   "cell_type": "markdown",
   "execution_count": null,
   "metadata": {},
   "source": [
    "### Batch size 200, Seq Length 256\n",
    "    Train on 50000 samples, validate on 4484 samples\n",
    "    Epoch 1/3\n",
    "    50000/50000 [==============================] - 161s 3ms/sample - loss: 0.4465 - accuracy: 0.8008 - val_loss: 0.2882 - val_accuracy: 0.8954\n",
    "    Epoch 2/3\n",
    "    50000/50000 [==============================] - 63s 1ms/sample - loss: 0.2732 - accuracy: 0.8876 - val_loss: 0.3020 - val_accuracy: 0.8892\n",
    "    Epoch 3/3\n",
    "    50000/50000 [==============================] - 63s 1ms/sample - loss: 0.2402 - accuracy: 0.9014 - val_loss: 0.2540 - val_accuracy: 0.9045"
   ]
  },
  {
   "cell_type": "markdown",
   "execution_count": null,
   "metadata": {},
   "source": [
    "### Batch size 100"
   ]
  },
  {
   "cell_type": "markdown",
   "execution_count": null,
   "metadata": {},
   "source": [
    "Train on 7000 samples, validate on 1000 samples\n",
    "7000/7000 [==============================] - 106s 15ms/sample - loss: 0.3744 - accuracy: 0.8457 - val_loss: 0.2753 - val_accuracy: 0.8714"
   ]
  },
  {
   "cell_type": "markdown",
   "execution_count": null,
   "metadata": {},
   "source": [
    "#### Label smoothing"
   ]
  },
  {
   "cell_type": "markdown",
   "execution_count": null,
   "metadata": {},
   "source": [
    "Train on 7000 samples, validate on 1000 samples\n",
    "7000/7000 [==============================] - 106s 15ms/sample - loss: 0.4207 - accuracy: 0.8121 - val_loss: 0.2752 - val_accuracy: 0.8765"
   ]
  },
  {
   "cell_type": "code",
   "execution_count": null,
   "metadata": {
    "scrolled": true
   },
   "outputs": [],
   "source": []
  },
  {
   "cell_type": "markdown",
   "execution_count": null,
   "metadata": {},
   "source": [
    "### Batch size 50"
   ]
  },
  {
   "cell_type": "markdown",
   "execution_count": null,
   "metadata": {},
   "source": [
    "Train on 7000 samples, validate on 1000 samples\n",
    "7000/7000 [==============================] - 116s 17ms/sample - loss: 0.3597 - accuracy: 0.8460 - val_loss: 0.2887 - val_accuracy: 0.8807"
   ]
  },
  {
   "cell_type": "markdown",
   "execution_count": null,
   "metadata": {},
   "source": [
    "Train on 7000 samples, validate on 1000 samples\n",
    "7000/7000 [==============================] - 112s 16ms/sample - loss: 0.4206 - accuracy: 0.8151 - val_loss: 0.2791 - val_accuracy: 0.8820"
   ]
  },
  {
   "cell_type": "markdown",
   "execution_count": null,
   "metadata": {},
   "source": [
    "Train on 7000 samples, validate on 1000 samples\n",
    "7000/7000 [==============================] - 108s 15ms/sample - loss: 0.4366 - accuracy: 0.8020 - val_loss: 0.3113 - val_accuracy: 0.8825"
   ]
  },
  {
   "cell_type": "code",
   "execution_count": 23,
   "metadata": {
    "scrolled": true
   },
   "outputs": [],
   "source": [
    "# def auc_maximization(y_pred, y_true):\n",
    "#     cost = - tf.reduce_mean(tf.sigmoid(y_pred @ tf.transpose(y_pred)) * np.maximum(y_true @ np.ones(y_true.shape).T - np.ones(y_true.shape) @ y_true.T, 0))\n",
    "#     return cost\n",
    "\n",
    "\n",
    "# def roc_auc_score(y_pred, y_true):\n",
    "#     \"\"\" ROC AUC Score.\n",
    "#     Approximates the Area Under Curve score, using approximation based on\n",
    "#     the Wilcoxon-Mann-Whitney U statistic.\n",
    "#     Yan, L., Dodier, R., Mozer, M. C., & Wolniewicz, R. (2003).\n",
    "#     Optimizing Classifier Performance via an Approximation to the Wilcoxon-Mann-Whitney Statistic.\n",
    "#     Measures overall performance for a full range of threshold levels.\n",
    "#     Arguments:\n",
    "#         y_pred: `Tensor`. Predicted values.\n",
    "#         y_true: `Tensor` . Targets (labels), a probability distribution.\n",
    "#     \"\"\"\n",
    "\n",
    "    \n",
    "#     pos = tf.boolean_mask(y_pred, tf.cast(y_true, tf.bool))\n",
    "#     neg = tf.boolean_mask(y_pred, ~tf.cast(y_true, tf.bool))\n",
    "\n",
    "#     pos = tf.expand_dims(pos, 0)\n",
    "#     neg = tf.expand_dims(neg, 1)\n",
    "\n",
    "#     # original paper suggests performance is robust to exact parameter choice\n",
    "#     gamma = 0.2\n",
    "#     p     = 3\n",
    "\n",
    "#     difference = tf.zeros_like(pos * neg) + pos - neg - gamma\n",
    "\n",
    "#     masked = tf.boolean_mask(difference, difference < 0.0)\n",
    "\n",
    "#     return tf.reduce_sum(tf.pow(-masked, p))\n",
    "\n",
    "\n",
    "\n",
    "\n",
    "# import tensorflow.keras.backend as K\n",
    "# def binary_crossentropy_with_ranking(y_true, y_pred):\n",
    "#     \"\"\" Trying to combine ranking loss with numeric precision\"\"\"\n",
    "#     y_true, y_pred = tf.cast(y_true, tf.float32), tf.cast(y_pred, tf.float32)\n",
    "#     logloss = K.mean(K.binary_crossentropy(y_pred, y_true), axis=-1)\n",
    "#     y_pred_clipped = K.clip(y_pred, K.epsilon(), 1-K.epsilon())\n",
    "#     y_pred_score = K.log(y_pred_clipped / (1 - y_pred_clipped))\n",
    "#     y_pred_score_zerooutcome_max = K.max(y_pred_score * (y_true <1))\n",
    "#     rankloss = y_pred_score - y_pred_score_zerooutcome_max\n",
    "#     rankloss = rankloss * y_true\n",
    "#     rankloss = K.square(K.clip(rankloss, -100, 0))\n",
    "#     rankloss = K.sum(rankloss, axis=-1) / (K.sum(y_true > 0) + 1)\n",
    "#     return rankloss + logloss"
   ]
  }
 ],
 "metadata": {
  "kernelspec": {
   "display_name": "Python 3",
   "language": "python",
   "name": "python3"
  },
  "language_info": {
   "codemirror_mode": {
    "name": "ipython",
    "version": 3
   },
   "file_extension": ".py",
   "mimetype": "text/x-python",
   "name": "python",
   "nbconvert_exporter": "python",
   "pygments_lexer": "ipython3",
   "version": "3.7.6"
  },
  "widgets": {
   "application/vnd.jupyter.widget-state+json": {
    "state": {
     "02ad9753d0c14e98aee66fd3b15a6e2d": {
      "model_module": "@jupyter-widgets/controls",
      "model_module_version": "1.5.0",
      "model_name": "HBoxModel",
      "state": {
       "_dom_classes": [],
       "_model_module": "@jupyter-widgets/controls",
       "_model_module_version": "1.5.0",
       "_model_name": "HBoxModel",
       "_view_count": null,
       "_view_module": "@jupyter-widgets/controls",
       "_view_module_version": "1.5.0",
       "_view_name": "HBoxView",
       "box_style": "",
       "children": [
        "IPY_MODEL_6bc457b9b2d546c5bb25808f7efae7bc",
        "IPY_MODEL_f25b0327537743079caf953c98dab7e7"
       ],
       "layout": "IPY_MODEL_d04d4b98933e4f018dd1bd7b227199c5"
      }
     },
     "198ca96d060e4545825b5e0080b2dc60": {
      "model_module": "@jupyter-widgets/base",
      "model_module_version": "1.2.0",
      "model_name": "LayoutModel",
      "state": {
       "_model_module": "@jupyter-widgets/base",
       "_model_module_version": "1.2.0",
       "_model_name": "LayoutModel",
       "_view_count": null,
       "_view_module": "@jupyter-widgets/base",
       "_view_module_version": "1.2.0",
       "_view_name": "LayoutView",
       "align_content": null,
       "align_items": null,
       "align_self": null,
       "border": null,
       "bottom": null,
       "display": null,
       "flex": null,
       "flex_flow": null,
       "grid_area": null,
       "grid_auto_columns": null,
       "grid_auto_flow": null,
       "grid_auto_rows": null,
       "grid_column": null,
       "grid_gap": null,
       "grid_row": null,
       "grid_template_areas": null,
       "grid_template_columns": null,
       "grid_template_rows": null,
       "height": null,
       "justify_content": null,
       "justify_items": null,
       "left": null,
       "margin": null,
       "max_height": null,
       "max_width": null,
       "min_height": null,
       "min_width": null,
       "object_fit": null,
       "object_position": null,
       "order": null,
       "overflow": null,
       "overflow_x": null,
       "overflow_y": null,
       "padding": null,
       "right": null,
       "top": null,
       "visibility": null,
       "width": null
      }
     },
     "2a593f798ec0441e9d645634005e6507": {
      "model_module": "@jupyter-widgets/controls",
      "model_module_version": "1.5.0",
      "model_name": "DescriptionStyleModel",
      "state": {
       "_model_module": "@jupyter-widgets/controls",
       "_model_module_version": "1.5.0",
       "_model_name": "DescriptionStyleModel",
       "_view_count": null,
       "_view_module": "@jupyter-widgets/base",
       "_view_module_version": "1.2.0",
       "_view_name": "StyleView",
       "description_width": ""
      }
     },
     "2cdf7ebe50364f25b984f77eb79079ef": {
      "model_module": "@jupyter-widgets/controls",
      "model_module_version": "1.5.0",
      "model_name": "FloatProgressModel",
      "state": {
       "_dom_classes": [],
       "_model_module": "@jupyter-widgets/controls",
       "_model_module_version": "1.5.0",
       "_model_name": "FloatProgressModel",
       "_view_count": null,
       "_view_module": "@jupyter-widgets/controls",
       "_view_module_version": "1.5.0",
       "_view_name": "ProgressView",
       "bar_style": "success",
       "description": "Downloading: 100%",
       "description_tooltip": null,
       "layout": "IPY_MODEL_6cc8603d6019456db44932d28e3e7574",
       "max": 513.0,
       "min": 0.0,
       "orientation": "horizontal",
       "style": "IPY_MODEL_a22241b78a5841ecac376f399df7ac16",
       "value": 513.0
      }
     },
     "5aae335c20ab43e5a14a5c149ddfc0cd": {
      "model_module": "@jupyter-widgets/base",
      "model_module_version": "1.2.0",
      "model_name": "LayoutModel",
      "state": {
       "_model_module": "@jupyter-widgets/base",
       "_model_module_version": "1.2.0",
       "_model_name": "LayoutModel",
       "_view_count": null,
       "_view_module": "@jupyter-widgets/base",
       "_view_module_version": "1.2.0",
       "_view_name": "LayoutView",
       "align_content": null,
       "align_items": null,
       "align_self": null,
       "border": null,
       "bottom": null,
       "display": null,
       "flex": null,
       "flex_flow": null,
       "grid_area": null,
       "grid_auto_columns": null,
       "grid_auto_flow": null,
       "grid_auto_rows": null,
       "grid_column": null,
       "grid_gap": null,
       "grid_row": null,
       "grid_template_areas": null,
       "grid_template_columns": null,
       "grid_template_rows": null,
       "height": null,
       "justify_content": null,
       "justify_items": null,
       "left": null,
       "margin": null,
       "max_height": null,
       "max_width": null,
       "min_height": null,
       "min_width": null,
       "object_fit": null,
       "object_position": null,
       "order": null,
       "overflow": null,
       "overflow_x": null,
       "overflow_y": null,
       "padding": null,
       "right": null,
       "top": null,
       "visibility": null,
       "width": null
      }
     },
     "6bc457b9b2d546c5bb25808f7efae7bc": {
      "model_module": "@jupyter-widgets/controls",
      "model_module_version": "1.5.0",
      "model_name": "FloatProgressModel",
      "state": {
       "_dom_classes": [],
       "_model_module": "@jupyter-widgets/controls",
       "_model_module_version": "1.5.0",
       "_model_name": "FloatProgressModel",
       "_view_count": null,
       "_view_module": "@jupyter-widgets/controls",
       "_view_module_version": "1.5.0",
       "_view_name": "ProgressView",
       "bar_style": "success",
       "description": "Downloading: 100%",
       "description_tooltip": null,
       "layout": "IPY_MODEL_7a7163a2c4624cb685e3a39192319310",
       "max": 5069051.0,
       "min": 0.0,
       "orientation": "horizontal",
       "style": "IPY_MODEL_b2a1dfe8d2ba416e97431ca1a41d674d",
       "value": 5069051.0
      }
     },
     "6c045142cae44dbdba6259915f2f675b": {
      "model_module": "@jupyter-widgets/controls",
      "model_module_version": "1.5.0",
      "model_name": "ProgressStyleModel",
      "state": {
       "_model_module": "@jupyter-widgets/controls",
       "_model_module_version": "1.5.0",
       "_model_name": "ProgressStyleModel",
       "_view_count": null,
       "_view_module": "@jupyter-widgets/base",
       "_view_module_version": "1.2.0",
       "_view_name": "StyleView",
       "bar_color": null,
       "description_width": "initial"
      }
     },
     "6cc8603d6019456db44932d28e3e7574": {
      "model_module": "@jupyter-widgets/base",
      "model_module_version": "1.2.0",
      "model_name": "LayoutModel",
      "state": {
       "_model_module": "@jupyter-widgets/base",
       "_model_module_version": "1.2.0",
       "_model_name": "LayoutModel",
       "_view_count": null,
       "_view_module": "@jupyter-widgets/base",
       "_view_module_version": "1.2.0",
       "_view_name": "LayoutView",
       "align_content": null,
       "align_items": null,
       "align_self": null,
       "border": null,
       "bottom": null,
       "display": null,
       "flex": null,
       "flex_flow": null,
       "grid_area": null,
       "grid_auto_columns": null,
       "grid_auto_flow": null,
       "grid_auto_rows": null,
       "grid_column": null,
       "grid_gap": null,
       "grid_row": null,
       "grid_template_areas": null,
       "grid_template_columns": null,
       "grid_template_rows": null,
       "height": null,
       "justify_content": null,
       "justify_items": null,
       "left": null,
       "margin": null,
       "max_height": null,
       "max_width": null,
       "min_height": null,
       "min_width": null,
       "object_fit": null,
       "object_position": null,
       "order": null,
       "overflow": null,
       "overflow_x": null,
       "overflow_y": null,
       "padding": null,
       "right": null,
       "top": null,
       "visibility": null,
       "width": null
      }
     },
     "7a7163a2c4624cb685e3a39192319310": {
      "model_module": "@jupyter-widgets/base",
      "model_module_version": "1.2.0",
      "model_name": "LayoutModel",
      "state": {
       "_model_module": "@jupyter-widgets/base",
       "_model_module_version": "1.2.0",
       "_model_name": "LayoutModel",
       "_view_count": null,
       "_view_module": "@jupyter-widgets/base",
       "_view_module_version": "1.2.0",
       "_view_name": "LayoutView",
       "align_content": null,
       "align_items": null,
       "align_self": null,
       "border": null,
       "bottom": null,
       "display": null,
       "flex": null,
       "flex_flow": null,
       "grid_area": null,
       "grid_auto_columns": null,
       "grid_auto_flow": null,
       "grid_auto_rows": null,
       "grid_column": null,
       "grid_gap": null,
       "grid_row": null,
       "grid_template_areas": null,
       "grid_template_columns": null,
       "grid_template_rows": null,
       "height": null,
       "justify_content": null,
       "justify_items": null,
       "left": null,
       "margin": null,
       "max_height": null,
       "max_width": null,
       "min_height": null,
       "min_width": null,
       "object_fit": null,
       "object_position": null,
       "order": null,
       "overflow": null,
       "overflow_x": null,
       "overflow_y": null,
       "padding": null,
       "right": null,
       "top": null,
       "visibility": null,
       "width": null
      }
     },
     "9f179fd1f9cf4888b4177024eb40112c": {
      "model_module": "@jupyter-widgets/controls",
      "model_module_version": "1.5.0",
      "model_name": "FloatProgressModel",
      "state": {
       "_dom_classes": [],
       "_model_module": "@jupyter-widgets/controls",
       "_model_module_version": "1.5.0",
       "_model_name": "FloatProgressModel",
       "_view_count": null,
       "_view_module": "@jupyter-widgets/controls",
       "_view_module_version": "1.5.0",
       "_view_name": "ProgressView",
       "bar_style": "success",
       "description": "Downloading: 100%",
       "description_tooltip": null,
       "layout": "IPY_MODEL_af579669a31e479e8c8fa9f6c3f8bcb1",
       "max": 3271420488.0,
       "min": 0.0,
       "orientation": "horizontal",
       "style": "IPY_MODEL_6c045142cae44dbdba6259915f2f675b",
       "value": 3271420488.0
      }
     },
     "a22241b78a5841ecac376f399df7ac16": {
      "model_module": "@jupyter-widgets/controls",
      "model_module_version": "1.5.0",
      "model_name": "ProgressStyleModel",
      "state": {
       "_model_module": "@jupyter-widgets/controls",
       "_model_module_version": "1.5.0",
       "_model_name": "ProgressStyleModel",
       "_view_count": null,
       "_view_module": "@jupyter-widgets/base",
       "_view_module_version": "1.2.0",
       "_view_name": "StyleView",
       "bar_color": null,
       "description_width": "initial"
      }
     },
     "af579669a31e479e8c8fa9f6c3f8bcb1": {
      "model_module": "@jupyter-widgets/base",
      "model_module_version": "1.2.0",
      "model_name": "LayoutModel",
      "state": {
       "_model_module": "@jupyter-widgets/base",
       "_model_module_version": "1.2.0",
       "_model_name": "LayoutModel",
       "_view_count": null,
       "_view_module": "@jupyter-widgets/base",
       "_view_module_version": "1.2.0",
       "_view_name": "LayoutView",
       "align_content": null,
       "align_items": null,
       "align_self": null,
       "border": null,
       "bottom": null,
       "display": null,
       "flex": null,
       "flex_flow": null,
       "grid_area": null,
       "grid_auto_columns": null,
       "grid_auto_flow": null,
       "grid_auto_rows": null,
       "grid_column": null,
       "grid_gap": null,
       "grid_row": null,
       "grid_template_areas": null,
       "grid_template_columns": null,
       "grid_template_rows": null,
       "height": null,
       "justify_content": null,
       "justify_items": null,
       "left": null,
       "margin": null,
       "max_height": null,
       "max_width": null,
       "min_height": null,
       "min_width": null,
       "object_fit": null,
       "object_position": null,
       "order": null,
       "overflow": null,
       "overflow_x": null,
       "overflow_y": null,
       "padding": null,
       "right": null,
       "top": null,
       "visibility": null,
       "width": null
      }
     },
     "b2a1dfe8d2ba416e97431ca1a41d674d": {
      "model_module": "@jupyter-widgets/controls",
      "model_module_version": "1.5.0",
      "model_name": "ProgressStyleModel",
      "state": {
       "_model_module": "@jupyter-widgets/controls",
       "_model_module_version": "1.5.0",
       "_model_name": "ProgressStyleModel",
       "_view_count": null,
       "_view_module": "@jupyter-widgets/base",
       "_view_module_version": "1.2.0",
       "_view_name": "StyleView",
       "bar_color": null,
       "description_width": "initial"
      }
     },
     "b756f8686f114feea6983ba2decd04a7": {
      "model_module": "@jupyter-widgets/controls",
      "model_module_version": "1.5.0",
      "model_name": "HTMLModel",
      "state": {
       "_dom_classes": [],
       "_model_module": "@jupyter-widgets/controls",
       "_model_module_version": "1.5.0",
       "_model_name": "HTMLModel",
       "_view_count": null,
       "_view_module": "@jupyter-widgets/controls",
       "_view_module_version": "1.5.0",
       "_view_name": "HTMLView",
       "description": "",
       "description_tooltip": null,
       "layout": "IPY_MODEL_c114cac881964b9ea40d6fea703d48c1",
       "placeholder": "​",
       "style": "IPY_MODEL_ba0bcde92e2a4619a279cc84945e1472",
       "value": " 513/513 [00:00&lt;00:00, 1.79kB/s]"
      }
     },
     "b8e1e3075e1e4e28824ba58960eb1c4b": {
      "model_module": "@jupyter-widgets/base",
      "model_module_version": "1.2.0",
      "model_name": "LayoutModel",
      "state": {
       "_model_module": "@jupyter-widgets/base",
       "_model_module_version": "1.2.0",
       "_model_name": "LayoutModel",
       "_view_count": null,
       "_view_module": "@jupyter-widgets/base",
       "_view_module_version": "1.2.0",
       "_view_name": "LayoutView",
       "align_content": null,
       "align_items": null,
       "align_self": null,
       "border": null,
       "bottom": null,
       "display": null,
       "flex": null,
       "flex_flow": null,
       "grid_area": null,
       "grid_auto_columns": null,
       "grid_auto_flow": null,
       "grid_auto_rows": null,
       "grid_column": null,
       "grid_gap": null,
       "grid_row": null,
       "grid_template_areas": null,
       "grid_template_columns": null,
       "grid_template_rows": null,
       "height": null,
       "justify_content": null,
       "justify_items": null,
       "left": null,
       "margin": null,
       "max_height": null,
       "max_width": null,
       "min_height": null,
       "min_width": null,
       "object_fit": null,
       "object_position": null,
       "order": null,
       "overflow": null,
       "overflow_x": null,
       "overflow_y": null,
       "padding": null,
       "right": null,
       "top": null,
       "visibility": null,
       "width": null
      }
     },
     "b90994998f204a479026c29136e16202": {
      "model_module": "@jupyter-widgets/controls",
      "model_module_version": "1.5.0",
      "model_name": "HBoxModel",
      "state": {
       "_dom_classes": [],
       "_model_module": "@jupyter-widgets/controls",
       "_model_module_version": "1.5.0",
       "_model_name": "HBoxModel",
       "_view_count": null,
       "_view_module": "@jupyter-widgets/controls",
       "_view_module_version": "1.5.0",
       "_view_name": "HBoxView",
       "box_style": "",
       "children": [
        "IPY_MODEL_2cdf7ebe50364f25b984f77eb79079ef",
        "IPY_MODEL_b756f8686f114feea6983ba2decd04a7"
       ],
       "layout": "IPY_MODEL_5aae335c20ab43e5a14a5c149ddfc0cd"
      }
     },
     "ba0bcde92e2a4619a279cc84945e1472": {
      "model_module": "@jupyter-widgets/controls",
      "model_module_version": "1.5.0",
      "model_name": "DescriptionStyleModel",
      "state": {
       "_model_module": "@jupyter-widgets/controls",
       "_model_module_version": "1.5.0",
       "_model_name": "DescriptionStyleModel",
       "_view_count": null,
       "_view_module": "@jupyter-widgets/base",
       "_view_module_version": "1.2.0",
       "_view_name": "StyleView",
       "description_width": ""
      }
     },
     "c114cac881964b9ea40d6fea703d48c1": {
      "model_module": "@jupyter-widgets/base",
      "model_module_version": "1.2.0",
      "model_name": "LayoutModel",
      "state": {
       "_model_module": "@jupyter-widgets/base",
       "_model_module_version": "1.2.0",
       "_model_name": "LayoutModel",
       "_view_count": null,
       "_view_module": "@jupyter-widgets/base",
       "_view_module_version": "1.2.0",
       "_view_name": "LayoutView",
       "align_content": null,
       "align_items": null,
       "align_self": null,
       "border": null,
       "bottom": null,
       "display": null,
       "flex": null,
       "flex_flow": null,
       "grid_area": null,
       "grid_auto_columns": null,
       "grid_auto_flow": null,
       "grid_auto_rows": null,
       "grid_column": null,
       "grid_gap": null,
       "grid_row": null,
       "grid_template_areas": null,
       "grid_template_columns": null,
       "grid_template_rows": null,
       "height": null,
       "justify_content": null,
       "justify_items": null,
       "left": null,
       "margin": null,
       "max_height": null,
       "max_width": null,
       "min_height": null,
       "min_width": null,
       "object_fit": null,
       "object_position": null,
       "order": null,
       "overflow": null,
       "overflow_x": null,
       "overflow_y": null,
       "padding": null,
       "right": null,
       "top": null,
       "visibility": null,
       "width": null
      }
     },
     "c3b7d282498e412bbc059e4a2a0c14b7": {
      "model_module": "@jupyter-widgets/controls",
      "model_module_version": "1.5.0",
      "model_name": "DescriptionStyleModel",
      "state": {
       "_model_module": "@jupyter-widgets/controls",
       "_model_module_version": "1.5.0",
       "_model_name": "DescriptionStyleModel",
       "_view_count": null,
       "_view_module": "@jupyter-widgets/base",
       "_view_module_version": "1.2.0",
       "_view_name": "StyleView",
       "description_width": ""
      }
     },
     "c5b6eeee279b44b4b6841f32975acad7": {
      "model_module": "@jupyter-widgets/base",
      "model_module_version": "1.2.0",
      "model_name": "LayoutModel",
      "state": {
       "_model_module": "@jupyter-widgets/base",
       "_model_module_version": "1.2.0",
       "_model_name": "LayoutModel",
       "_view_count": null,
       "_view_module": "@jupyter-widgets/base",
       "_view_module_version": "1.2.0",
       "_view_name": "LayoutView",
       "align_content": null,
       "align_items": null,
       "align_self": null,
       "border": null,
       "bottom": null,
       "display": null,
       "flex": null,
       "flex_flow": null,
       "grid_area": null,
       "grid_auto_columns": null,
       "grid_auto_flow": null,
       "grid_auto_rows": null,
       "grid_column": null,
       "grid_gap": null,
       "grid_row": null,
       "grid_template_areas": null,
       "grid_template_columns": null,
       "grid_template_rows": null,
       "height": null,
       "justify_content": null,
       "justify_items": null,
       "left": null,
       "margin": null,
       "max_height": null,
       "max_width": null,
       "min_height": null,
       "min_width": null,
       "object_fit": null,
       "object_position": null,
       "order": null,
       "overflow": null,
       "overflow_x": null,
       "overflow_y": null,
       "padding": null,
       "right": null,
       "top": null,
       "visibility": null,
       "width": null
      }
     },
     "ca0348a0b83a4ed8a24eb55c789b565b": {
      "model_module": "@jupyter-widgets/controls",
      "model_module_version": "1.5.0",
      "model_name": "HTMLModel",
      "state": {
       "_dom_classes": [],
       "_model_module": "@jupyter-widgets/controls",
       "_model_module_version": "1.5.0",
       "_model_name": "HTMLModel",
       "_view_count": null,
       "_view_module": "@jupyter-widgets/controls",
       "_view_module_version": "1.5.0",
       "_view_name": "HTMLView",
       "description": "",
       "description_tooltip": null,
       "layout": "IPY_MODEL_b8e1e3075e1e4e28824ba58960eb1c4b",
       "placeholder": "​",
       "style": "IPY_MODEL_c3b7d282498e412bbc059e4a2a0c14b7",
       "value": " 3.27G/3.27G [01:36&lt;00:00, 33.9MB/s]"
      }
     },
     "d04d4b98933e4f018dd1bd7b227199c5": {
      "model_module": "@jupyter-widgets/base",
      "model_module_version": "1.2.0",
      "model_name": "LayoutModel",
      "state": {
       "_model_module": "@jupyter-widgets/base",
       "_model_module_version": "1.2.0",
       "_model_name": "LayoutModel",
       "_view_count": null,
       "_view_module": "@jupyter-widgets/base",
       "_view_module_version": "1.2.0",
       "_view_name": "LayoutView",
       "align_content": null,
       "align_items": null,
       "align_self": null,
       "border": null,
       "bottom": null,
       "display": null,
       "flex": null,
       "flex_flow": null,
       "grid_area": null,
       "grid_auto_columns": null,
       "grid_auto_flow": null,
       "grid_auto_rows": null,
       "grid_column": null,
       "grid_gap": null,
       "grid_row": null,
       "grid_template_areas": null,
       "grid_template_columns": null,
       "grid_template_rows": null,
       "height": null,
       "justify_content": null,
       "justify_items": null,
       "left": null,
       "margin": null,
       "max_height": null,
       "max_width": null,
       "min_height": null,
       "min_width": null,
       "object_fit": null,
       "object_position": null,
       "order": null,
       "overflow": null,
       "overflow_x": null,
       "overflow_y": null,
       "padding": null,
       "right": null,
       "top": null,
       "visibility": null,
       "width": null
      }
     },
     "f25b0327537743079caf953c98dab7e7": {
      "model_module": "@jupyter-widgets/controls",
      "model_module_version": "1.5.0",
      "model_name": "HTMLModel",
      "state": {
       "_dom_classes": [],
       "_model_module": "@jupyter-widgets/controls",
       "_model_module_version": "1.5.0",
       "_model_name": "HTMLModel",
       "_view_count": null,
       "_view_module": "@jupyter-widgets/controls",
       "_view_module_version": "1.5.0",
       "_view_name": "HTMLView",
       "description": "",
       "description_tooltip": null,
       "layout": "IPY_MODEL_c5b6eeee279b44b4b6841f32975acad7",
       "placeholder": "​",
       "style": "IPY_MODEL_2a593f798ec0441e9d645634005e6507",
       "value": " 5.07M/5.07M [00:06&lt;00:00, 780kB/s]"
      }
     },
     "f65c174c80df457b957628841548b91e": {
      "model_module": "@jupyter-widgets/controls",
      "model_module_version": "1.5.0",
      "model_name": "HBoxModel",
      "state": {
       "_dom_classes": [],
       "_model_module": "@jupyter-widgets/controls",
       "_model_module_version": "1.5.0",
       "_model_name": "HBoxModel",
       "_view_count": null,
       "_view_module": "@jupyter-widgets/controls",
       "_view_module_version": "1.5.0",
       "_view_name": "HBoxView",
       "box_style": "",
       "children": [
        "IPY_MODEL_9f179fd1f9cf4888b4177024eb40112c",
        "IPY_MODEL_ca0348a0b83a4ed8a24eb55c789b565b"
       ],
       "layout": "IPY_MODEL_198ca96d060e4545825b5e0080b2dc60"
      }
     }
    },
    "version_major": 2,
    "version_minor": 0
   }
  }
 },
 "nbformat": 4,
 "nbformat_minor": 4
}
