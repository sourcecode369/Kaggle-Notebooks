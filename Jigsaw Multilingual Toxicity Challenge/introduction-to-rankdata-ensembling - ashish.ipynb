{
 "cells": [
  {
   "cell_type": "markdown",
   "execution_count": null,
   "metadata": {},
   "source": [
    "Jigsaw's API, Perspective, serves toxicity models and others in a growing set of languages (see our documentation for the full list). Over the past year, the field has seen impressive multilingual capabilities from the latest model innovations, including few- and zero-shot learning. We're excited to learn whether these results \"translate\" (pun intended!) to toxicity classification. Your training data will be the English data provided for our previous two competitions and your test data will be Wikipedia talk page comments in several different languages."
   ]
  },
  {
   "cell_type": "markdown",
   "execution_count": null,
   "metadata": {},
   "source": [
    "I would like to thank my team members, for their awesome contribution in the competition.\n",
    "\n",
    "1. Ashish Gupta (https://www.kaggle.com/roydatascience)\n",
    "2. Mukharbek Organokov (https://www.kaggle.com/muhakabartay)\n",
    "3. Firat Gonen (https://www.kaggle.com/frtgnn)\n",
    "4. Atharva (https://www.kaggle.com/atharvap329)\n",
    "5. Kirill Balakhonov (https://www.kaggle.com/kirill702b) "
   ]
  },
  {
   "cell_type": "markdown",
   "execution_count": null,
   "metadata": {},
   "source": [
    "Adding Henrique Mendonça's Kernel -.9487 Submission\n",
    "https://www.kaggle.com/hmendonca/jigsaw20-xlm-r-lb0-9487-singel-model\n",
    "\n",
    "Adding Seawolfs's Kernel -.9522 Submission\n",
    "https://www.kaggle.com/xiwuhan/jmtc-2nd-place-solution/output?scriptVersionId=37010822\n",
    "\n",
    "\n",
    "These Guys deserve much more votes for the innovative approaches. Please vote for his kernel."
   ]
  },
  {
   "cell_type": "code",
   "execution_count": 1,
   "metadata": {
    "_cell_guid": "b1076dfc-b9ad-4769-8c92-a6c4dae69d19",
    "_uuid": "8f2839f25d086af736a60e9eeb907d3b93b6e0e5"
   },
   "outputs": [
    {
     "name": "stdout",
     "output_type": "stream",
     "text": [
      "jigsaw-data\n",
      "jigsaw-multilingual-toxic-comment-classification\n",
      "\n"
     ]
    }
   ],
   "source": [
    "import os\n",
    "import numpy as np \n",
    "import pandas as pd \n",
    "import matplotlib.pyplot as plt\n",
    "import seaborn as sns\n",
    "%matplotlib inline\n",
    "from subprocess import check_output\n",
    "print(check_output([\"ls\", \"../input\"]).decode(\"utf8\"))"
   ]
  },
  {
   "cell_type": "code",
   "execution_count": 2,
   "metadata": {},
   "outputs": [],
   "source": [
    "from scipy.stats import rankdata\n",
    "import glob\n",
    "LABELS = [\"toxic\"]\n",
    "all_files = glob.glob(\"../input/jigsaw-data/*.csv\")"
   ]
  },
  {
   "cell_type": "code",
   "execution_count": 3,
   "metadata": {},
   "outputs": [],
   "source": [
    "outs = [pd.read_csv(f, index_col=0) for f in all_files]\n",
    "concat_sub = pd.concat(outs, axis=1)\n",
    "cols = list(map(lambda x: \"m\" + str(x), range(len(concat_sub.columns))))\n",
    "concat_sub.columns = cols\n",
    "concat_sub.reset_index(inplace=True)"
   ]
  },
  {
   "cell_type": "code",
   "execution_count": 4,
   "metadata": {},
   "outputs": [],
   "source": [
    "import warnings\n",
    "warnings.filterwarnings(\"ignore\")\n",
    "rank = np.tril(concat_sub.iloc[:,1:].corr().values,-1)\n",
    "m = (rank>0).sum()\n",
    "m_gmean, s = 0, 0\n",
    "for n in range(min(rank.shape[0],m)):\n",
    "    mx = np.unravel_index(rank.argmin(), rank.shape)\n",
    "    w = (m-n)/(m+n/10)\n",
    "    #print(w)\n",
    "    m_gmean += w*(np.log(concat_sub.iloc[:,mx[0]+1])+np.log(concat_sub.iloc[:,mx[1]+1]))/2\n",
    "    s += w\n",
    "    rank[mx] = 1\n",
    "m_gmean = np.exp(m_gmean/s).clip(0.0,1.0)"
   ]
  },
  {
   "cell_type": "code",
   "execution_count": 5,
   "metadata": {},
   "outputs": [],
   "source": [
    "predict_list = []\n",
    "\n",
    "#Public Solution\n",
    "predict_list.append(pd.read_csv(\"../input/jigsaw-data/submission-.9139.csv\")[LABELS].values)\n",
    "predict_list.append(pd.read_csv(\"../input/jigsaw-data/submission-.9158.csv\")[LABELS].values)\n",
    "predict_list.append(pd.read_csv(\"../input/jigsaw-data/submission-.9189.csv\")[LABELS].values)\n",
    "predict_list.append(pd.read_csv(\"../input/jigsaw-data/submission-.9234.csv\")[LABELS].values)\n",
    "predict_list.append(pd.read_csv(\"../input/jigsaw-data/submission-.9240.csv\")[LABELS].values)\n",
    "predict_list.append(pd.read_csv(\"../input/jigsaw-data/submission-.9242.csv\")[LABELS].values)\n",
    "predict_list.append(pd.read_csv(\"../input/jigsaw-data/submission-.9257.csv\")[LABELS].values)\n",
    "predict_list.append(pd.read_csv(\"../input/jigsaw-data/submission-.9312.csv\")[LABELS].values)\n",
    "predict_list.append(pd.read_csv(\"../input/jigsaw-data/submission-.9322.csv\")[LABELS].values)\n",
    "predict_list.append(pd.read_csv(\"../input/jigsaw-data/submission-.9332.csv\")[LABELS].values)\n",
    "\n",
    "#Ashish Submission\n",
    "predict_list.append(pd.read_csv(\"../input/jigsaw-data/submission-.9336.csv\")[LABELS].values)\n",
    "\n",
    "#Kirill Submission\n",
    "predict_list.append(pd.read_csv(\"../input/jigsaw-data/submission-.9338.csv\")[LABELS].values)\n",
    "\n",
    "#Firat Submission\n",
    "predict_list.append(pd.read_csv(\"../input/jigsaw-data/submission-.9346.csv\")[LABELS].values)\n",
    "\n",
    "#Atharva Submission\n",
    "predict_list.append(pd.read_csv(\"../input/jigsaw-data/submission-.9358.csv\")[LABELS].values)\n",
    "\n",
    "#Firat Submission\n",
    "predict_list.append(pd.read_csv(\"../input/jigsaw-data/submission-.9361.csv\")[LABELS].values)\n",
    "\n",
    "#Atharva Submission\n",
    "predict_list.append(pd.read_csv(\"../input/jigsaw-data/submission-.9368.csv\")[LABELS].values)\n",
    "\n",
    "#Kirill Solution\n",
    "predict_list.append(pd.read_csv(\"../input/jigsaw-data/submission-.9377.csv\")[LABELS].values)\n",
    "\n",
    "#Public Solution\n",
    "predict_list.append(pd.read_csv(\"../input/jigsaw-data/submission-.9383.csv\")[LABELS].values)\n",
    "\n",
    "#Mukharbek Submission\n",
    "predict_list.append(pd.read_csv(\"../input/jigsaw-data/submission-.9397.csv\")[LABELS].values)\n",
    "\n",
    "predict_list_2 = []\n",
    "\n",
    "# Ashish Submission\n",
    "predict_list_2.append(pd.read_csv(\"../input/jigsaw-data/submission-.9414-1.csv\")[LABELS].values)\n",
    "\n",
    "#Public Submissions\n",
    "predict_list_2.append(pd.read_csv(\"../input/jigsaw-data/submission-.9416.csv\")[LABELS].values)\n",
    "predict_list_2.append(pd.read_csv(\"../input/jigsaw-data/submission-.9422.csv\")[LABELS].values)\n",
    "\n",
    "# Ashish Submission\n",
    "predict_list_2.append(pd.read_csv(\"../input/jigsaw-data/submission-.9427.csv\")[LABELS].values)\n",
    "\n",
    "# Public Submission - Henrique Mendonça's .9487 kernel\n",
    "# https://www.kaggle.com/hmendonca/jigsaw20-xlm-r-lb0-9487-singel-model\n",
    "predict_list_2.append(pd.read_csv(\"../input/jigsaw-data/submission-.9487.csv\")[LABELS].values)\n",
    "\n",
    "\n",
    "# Adding Seawolfs's Kernel -.9522 Submission \n",
    "# https://www.kaggle.com/xiwuhan/jmtc-2nd-place-solution/output?scriptVersionId=37010822\n",
    "predict_list_2.append(pd.read_csv(\"../input/jigsaw-data/submission-.9522.csv\")[LABELS].values)"
   ]
  },
  {
   "cell_type": "code",
   "execution_count": 6,
   "metadata": {},
   "outputs": [
    {
     "name": "stdout",
     "output_type": "stream",
     "text": [
      "Rank averaging on  19  files\n"
     ]
    }
   ],
   "source": [
    "import warnings\n",
    "warnings.filterwarnings(\"ignore\")\n",
    "print(\"Rank averaging on \", len(predict_list), \" files\")\n",
    "predictions = np.zeros_like(predict_list[0])\n",
    "for predict in predict_list:\n",
    "    for i in range(1):\n",
    "        predictions[:, i] = np.add(predictions[:, i], rankdata(predict[:, i])/predictions.shape[0])  \n",
    "\n",
    "predictions = predictions /len(predict_list)"
   ]
  },
  {
   "cell_type": "code",
   "execution_count": 7,
   "metadata": {},
   "outputs": [
    {
     "name": "stdout",
     "output_type": "stream",
     "text": [
      "Rank averaging on  6  files\n"
     ]
    }
   ],
   "source": [
    "import warnings\n",
    "warnings.filterwarnings(\"ignore\")\n",
    "print(\"Rank averaging on \", len(predict_list_2), \" files\")\n",
    "predictions_2 = np.zeros_like(predict_list_2[0])\n",
    "for predict in predict_list_2:\n",
    "    for i in range(1):\n",
    "        predictions_2[:, i] = np.add(predictions_2[:, i], rankdata(predict[:, i])/predictions_2.shape[0])  \n",
    "\n",
    "predictions_2 = predictions_2 /len(predict_list_2)"
   ]
  },
  {
   "cell_type": "code",
   "execution_count": 8,
   "metadata": {},
   "outputs": [],
   "source": [
    "submission_1 = pd.read_csv('../input/jigsaw-multilingual-toxic-comment-classification/sample_submission.csv')\n",
    "submission_1[LABELS] = predictions\n",
    "\n",
    "submission_2 = pd.read_csv('../input/jigsaw-multilingual-toxic-comment-classification/sample_submission.csv')\n",
    "submission_2[LABELS] = predictions_2\n",
    "\n",
    "submission = pd.read_csv('../input/jigsaw-multilingual-toxic-comment-classification/sample_submission.csv')\n",
    "submission[LABELS] = submission_1[LABELS]*.35 + submission_2[LABELS]*.65\n",
    "\n",
    "submission.to_csv('submission.csv', index=False)"
   ]
  }
 ],
 "metadata": {
  "kernelspec": {
   "display_name": "Python 3",
   "language": "python",
   "name": "python3"
  },
  "language_info": {
   "codemirror_mode": {
    "name": "ipython",
    "version": 3
   },
   "file_extension": ".py",
   "mimetype": "text/x-python",
   "name": "python",
   "nbconvert_exporter": "python",
   "pygments_lexer": "ipython3",
   "version": "3.6.6"
  }
 },
 "nbformat": 4,
 "nbformat_minor": 4
}
