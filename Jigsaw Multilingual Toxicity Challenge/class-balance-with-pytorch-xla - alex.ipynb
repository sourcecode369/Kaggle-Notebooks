{
 "cells": [
  {
   "cell_type": "markdown",
   "metadata": {},
   "source": [
    "# How to correctly keep class balance using TPU in distributed training\n",
    "\n",
    "Hi, everyone!\n",
    "\n",
    "My name is Alex Shonenkov, I am DL/NLP/CV/TS research engineer. Especially I am in Love with NLP & DL.\n",
    "\n",
    "First of all, I would like to say all of you \"Thanks!\" for the fact that you find my ideas interesting and useful!\n",
    "\n",
    "- [[TPU-Inference] Super Fast XLMRoberta](https://www.kaggle.com/shonenkov/tpu-inference-super-fast-xlmroberta)\n",
    "- [NLP Albumentations](https://www.kaggle.com/shonenkov/nlp-albumentations)\n",
    "- [Hack with Parallel Corpus](https://www.kaggle.com/shonenkov/hack-with-parallel-corpus)\n",
    "\n",
    "In this kernel I would like to demonstrate simple technique for keeping balance class during distributed training with PyTorch / XLA\n"
   ]
  },
  {
   "cell_type": "markdown",
   "metadata": {},
   "source": [
    "# Motivation\n",
    "\n",
    "I've studied the best of the best provided public training kernels for this competition and understood, that authors didn't use balance class:\n",
    "- [I Like Clean TPU Training Kernels & I Can Not Lie](https://www.kaggle.com/abhishek/i-like-clean-tpu-training-kernels-i-can-not-lie) by [@abhishek](https://www.kaggle.com/abhishek)\n",
    "- [Jigsaw Multilingual Toxicity : EDA + Models 🤬](https://www.kaggle.com/tarunpaparaju/jigsaw-multilingual-toxicity-eda-models) by [@tarunpaparaju](https://www.kaggle.com/tarunpaparaju)\n",
    "- [Deep Learning For NLP: Zero To Transformers & BERT](https://www.kaggle.com/tanulsingh077/deep-learning-for-nlp-zero-to-transformers-bert) by [@tanulsingh077](https://www.kaggle.com/tanulsingh077)\n",
    "\n",
    "\n",
    "Thanks a lot all of them for their works!\n",
    "\n",
    "\n",
    "[@xhlulu](https://www.kaggle.com/xhlulu) said in [discussion](https://www.kaggle.com/c/jigsaw-multilingual-toxic-comment-classification/discussion/140254):\n",
    "\n",
    "> Balance your data: The training data set consists of over 2M data points, but it is heavily unbalanced since it only has around 120k positive labels. In order to limit training time, I selected all of the positive labels, and subsampled the negative labels such that I have in total 400k labels, which is a lot closer to the class frequency of the validation labels.\n",
    "\n",
    "\n",
    "I also think the balance class gives really good boost in this competition!\n",
    "\n",
    "You can see how [@xhlulu](https://www.kaggle.com/xhlulu) realized balance class keeping:\n",
    "- [Jigsaw TPU: XLM-Roberta](https://www.kaggle.com/xhlulu/jigsaw-tpu-xlm-roberta) by [@xhlulu](https://www.kaggle.com/xhlulu)\n",
    "\n",
    "\n",
    "He used sampler with pandas DataFrame:\n",
    "\n",
    "![](https://i.ibb.co/D8QMZQn/2020-05-01-19-09-45.png)\n",
    "\n",
    "It has some problems: not all data can participate in training! Also If you used this method in every epoch you can find OOM problems that often meet with XLA / PyTorch"
   ]
  },
  {
   "cell_type": "markdown",
   "metadata": {},
   "source": [
    "# MAIN IDEA\n",
    "\n",
    "Lets use modificated pytorch sampler for our loaders for retrieve balanced dataset in streaming! \n",
    "Also lets don't forget about distributed training!\n",
    "\n",
    "I would like to demostrate technique how I decided this problem for my research pipelines."
   ]
  },
  {
   "cell_type": "markdown",
   "metadata": {},
   "source": [
    "### I would like to say thanks [Catalyst Team](https://github.com/catalyst-team/catalyst) for creating the great library!\n",
    "\n",
    "But this library can't use TPU backend for now... \n",
    "\n",
    "So let's start!"
   ]
  },
  {
   "cell_type": "code",
   "execution_count": 1,
   "metadata": {
    "_kg_hide-input": true,
    "_kg_hide-output": true
   },
   "outputs": [
    {
     "name": "stdout",
     "output_type": "stream",
     "text": [
      "  % Total    % Received % Xferd  Average Speed   Time    Time     Time  Current\r\n",
      "                                 Dload  Upload   Total   Spent    Left  Speed\r\n",
      "100  3727  100  3727    0     0  17018      0 --:--:-- --:--:-- --:--:-- 16940\r\n",
      "Copying gs://tpu-pytorch/wheels/torch-nightly+20200420-cp36-cp36m-linux_x86_64.whl...\r\n",
      "\r\n",
      "Operation completed over 1 objects/86.8 MiB.                                     \r\n",
      "Copying gs://tpu-pytorch/wheels/torch_xla-nightly+20200420-cp36-cp36m-linux_x86_64.whl...\r\n",
      "\r\n",
      "Operation completed over 1 objects/117.2 MiB.                                    \r\n",
      "Copying gs://tpu-pytorch/wheels/torchvision-nightly+20200420-cp36-cp36m-linux_x86_64.whl...\r\n",
      "\r\n",
      "Operation completed over 1 objects/2.4 MiB.                                      \r\n",
      "\u001b[31mERROR: fastai 1.0.60 requires torchvision, which is not installed.\u001b[0m\r\n",
      "\u001b[31mERROR: catalyst 20.3.3 requires torchvision>=0.2.1, which is not installed.\u001b[0m\r\n",
      "\u001b[31mERROR: allennlp 0.9.0 has requirement spacy<2.2,>=2.1.0, but you'll have spacy 2.2.3 which is incompatible.\u001b[0m\r\n",
      "debconf: delaying package configuration, since apt-utils is not installed\r\n"
     ]
    }
   ],
   "source": [
    "!curl https://raw.githubusercontent.com/pytorch/xla/master/contrib/scripts/env-setup.py -o pytorch-xla-env-setup.py > /dev/null\n",
    "!python pytorch-xla-env-setup.py --version 20200420 --apt-packages libomp5 libopenblas-dev > /dev/null"
   ]
  },
  {
   "cell_type": "code",
   "execution_count": 2,
   "metadata": {
    "_kg_hide-input": true,
    "_kg_hide-output": true
   },
   "outputs": [],
   "source": [
    "import pandas as pd\n",
    "import torch\n",
    "from torch.utils.data import Dataset,DataLoader\n",
    "from tqdm import tqdm\n",
    "from datetime import datetime\n",
    "import os\n",
    "import warnings\n",
    "from glob import glob\n",
    "import time\n",
    "\n",
    "warnings.filterwarnings(\"ignore\")\n",
    "\n",
    "import torch_xla\n",
    "import torch_xla.core.xla_model as xm\n",
    "import torch_xla.distributed.parallel_loader as pl\n",
    "import torch_xla.distributed.xla_multiprocessing as xmp"
   ]
  },
  {
   "cell_type": "code",
   "execution_count": 3,
   "metadata": {},
   "outputs": [],
   "source": [
    "from torch.utils.data.distributed import DistributedSampler\n",
    "from typing import Iterator, List, Optional\n",
    "from torch.utils.data.sampler import Sampler\n",
    "from torch.utils.data.dataset import Dataset\n",
    "from operator import itemgetter\n",
    "import numpy as np\n",
    "\n",
    "##################################\n",
    "## parts of code from catalyst: ##\n",
    "##################################\n",
    "\n",
    "class DatasetFromSampler(Dataset):\n",
    "    \"\"\"Dataset of indexes from `Sampler`.\"\"\"\n",
    "\n",
    "    def __init__(self, sampler: Sampler):\n",
    "        \"\"\"\n",
    "        Args:\n",
    "            sampler (Sampler): @TODO: Docs. Contribution is welcome\n",
    "        \"\"\"\n",
    "        self.sampler = sampler\n",
    "        self.sampler_list = None\n",
    "\n",
    "    def __getitem__(self, index: int):\n",
    "        \"\"\"Gets element of the dataset.\n",
    "        Args:\n",
    "            index (int): index of the element in the dataset\n",
    "        Returns:\n",
    "            Single element by index\n",
    "        \"\"\"\n",
    "        if self.sampler_list is None:\n",
    "            self.sampler_list = list(self.sampler)\n",
    "        return self.sampler_list[index]\n",
    "\n",
    "    def __len__(self) -> int:\n",
    "        \"\"\"\n",
    "        Returns:\n",
    "            int: length of the dataset\n",
    "        \"\"\"\n",
    "        return len(self.sampler)\n",
    "\n",
    "\n",
    "class DistributedSamplerWrapper(DistributedSampler):\n",
    "    \"\"\"\n",
    "    Wrapper over `Sampler` for distributed training.\n",
    "    Allows you to use any sampler in distributed mode.\n",
    "    It is especially useful in conjunction with\n",
    "    :class:`torch.nn.parallel.DistributedDataParallel`. In such case, each\n",
    "    process can pass a DistributedSamplerWrapper instance as a DataLoader\n",
    "    sampler, and load a subset of subsampled data of the original dataset\n",
    "    that is exclusive to it.\n",
    "    .. note::\n",
    "        Sampler is assumed to be of constant size.\n",
    "    \"\"\"\n",
    "\n",
    "    def __init__(\n",
    "        self,\n",
    "        sampler,\n",
    "        num_replicas: Optional[int] = None,\n",
    "        rank: Optional[int] = None,\n",
    "        shuffle: bool = True,\n",
    "    ):\n",
    "        \"\"\"\n",
    "        Args:\n",
    "            sampler: Sampler used for subsampling\n",
    "            num_replicas (int, optional): Number of processes participating in\n",
    "                distributed training\n",
    "            rank (int, optional): Rank of the current process\n",
    "                within ``num_replicas``\n",
    "            shuffle (bool, optional): If true (default),\n",
    "                sampler will shuffle the indices\n",
    "        \"\"\"\n",
    "        super(DistributedSamplerWrapper, self).__init__(\n",
    "            DatasetFromSampler(sampler),\n",
    "            num_replicas=num_replicas,\n",
    "            rank=rank,\n",
    "            shuffle=shuffle,\n",
    "        )\n",
    "        self.sampler = sampler\n",
    "\n",
    "    def __iter__(self):\n",
    "        \"\"\"@TODO: Docs. Contribution is welcome.\"\"\"\n",
    "        self.dataset = DatasetFromSampler(self.sampler)\n",
    "        indexes_of_indexes = super().__iter__()\n",
    "        subsampler_indexes = self.dataset\n",
    "        return iter(itemgetter(*indexes_of_indexes)(subsampler_indexes))\n",
    "\n",
    "class BalanceClassSampler(Sampler):\n",
    "    \"\"\"Abstraction over data sampler.\n",
    "    Allows you to create stratified sample on unbalanced classes.\n",
    "    \"\"\"\n",
    "\n",
    "    def __init__(self, labels: List[int], mode: str = \"downsampling\"):\n",
    "        \"\"\"\n",
    "        Args:\n",
    "            labels (List[int]): list of class label\n",
    "                for each elem in the datasety\n",
    "            mode (str): Strategy to balance classes.\n",
    "                Must be one of [downsampling, upsampling]\n",
    "        \"\"\"\n",
    "        super().__init__(labels)\n",
    "\n",
    "        labels = np.array(labels)\n",
    "        samples_per_class = {\n",
    "            label: (labels == label).sum() for label in set(labels)\n",
    "        }\n",
    "\n",
    "        self.lbl2idx = {\n",
    "            label: np.arange(len(labels))[labels == label].tolist()\n",
    "            for label in set(labels)\n",
    "        }\n",
    "\n",
    "        if isinstance(mode, str):\n",
    "            assert mode in [\"downsampling\", \"upsampling\"]\n",
    "\n",
    "        if isinstance(mode, int) or mode == \"upsampling\":\n",
    "            samples_per_class = (\n",
    "                mode\n",
    "                if isinstance(mode, int)\n",
    "                else max(samples_per_class.values())\n",
    "            )\n",
    "        else:\n",
    "            samples_per_class = min(samples_per_class.values())\n",
    "\n",
    "        self.labels = labels\n",
    "        self.samples_per_class = samples_per_class\n",
    "        self.length = self.samples_per_class * len(set(labels))\n",
    "\n",
    "    def __iter__(self) -> Iterator[int]:\n",
    "        \"\"\"\n",
    "        Yields:\n",
    "            indices of stratified sample\n",
    "        \"\"\"\n",
    "        indices = []\n",
    "        for key in sorted(self.lbl2idx):\n",
    "            replace_ = self.samples_per_class > len(self.lbl2idx[key])\n",
    "            indices += np.random.choice(\n",
    "                self.lbl2idx[key], self.samples_per_class, replace=replace_\n",
    "            ).tolist()\n",
    "        assert len(indices) == self.length\n",
    "        np.random.shuffle(indices)\n",
    "\n",
    "        return iter(indices)\n",
    "\n",
    "    def __len__(self) -> int:\n",
    "        \"\"\"\n",
    "        Returns:\n",
    "             length of result sample\n",
    "        \"\"\"\n",
    "        return self.length"
   ]
  },
  {
   "cell_type": "markdown",
   "metadata": {},
   "source": [
    "## Examples for usage and understanding:"
   ]
  },
  {
   "cell_type": "code",
   "execution_count": 4,
   "metadata": {},
   "outputs": [],
   "source": [
    "class DatasetRetriever(Dataset):\n",
    "\n",
    "    def __init__(self, df):\n",
    "        self.labels = df['toxic'].values\n",
    "\n",
    "    def __len__(self):\n",
    "        return self.labels.shape[0]\n",
    "\n",
    "    def __getitem__(self, idx):\n",
    "        label = self.labels[idx]\n",
    "        return label\n",
    "    \n",
    "    def get_labels(self):\n",
    "        return list(self.labels )"
   ]
  },
  {
   "cell_type": "code",
   "execution_count": 5,
   "metadata": {},
   "outputs": [
    {
     "name": "stdout",
     "output_type": "stream",
     "text": [
      "CPU times: user 1.39 s, sys: 226 ms, total: 1.62 s\n",
      "Wall time: 1.64 s\n"
     ]
    }
   ],
   "source": [
    "%%time\n",
    "\n",
    "df_train = pd.read_csv(f'../input/jigsaw-multilingual-toxic-comment-classification/jigsaw-toxic-comment-train.csv', index_col='id')"
   ]
  },
  {
   "cell_type": "code",
   "execution_count": 6,
   "metadata": {},
   "outputs": [],
   "source": [
    "train_dataset = DatasetRetriever(df_train)"
   ]
  },
  {
   "cell_type": "markdown",
   "metadata": {},
   "source": [
    "Usually loader:"
   ]
  },
  {
   "cell_type": "code",
   "execution_count": 7,
   "metadata": {},
   "outputs": [],
   "source": [
    "train_loader = torch.utils.data.DataLoader(\n",
    "    train_dataset,\n",
    "    batch_size=16,\n",
    "    pin_memory=False,\n",
    "    drop_last=False,\n",
    "    num_workers=2\n",
    ")"
   ]
  },
  {
   "cell_type": "code",
   "execution_count": 8,
   "metadata": {},
   "outputs": [
    {
     "name": "stderr",
     "output_type": "stream",
     "text": [
      "100%|██████████| 13972/13972 [00:15<00:00, 892.72it/s]\n"
     ]
    }
   ],
   "source": [
    "result = {'toxic': []}\n",
    "for labels in tqdm(train_loader, total=len(train_loader)):\n",
    "    result['toxic'].extend(labels.numpy())"
   ]
  },
  {
   "cell_type": "code",
   "execution_count": 9,
   "metadata": {},
   "outputs": [
    {
     "data": {
      "text/plain": [
       "<matplotlib.axes._subplots.AxesSubplot at 0x7fd355285748>"
      ]
     },
     "execution_count": 9,
     "metadata": {},
     "output_type": "execute_result"
    },
    {
     "data": {
      "image/png": "[encoded data removed]",
      "text/plain": [
       "<Figure size 432x288 with 1 Axes>"
      ]
     },
     "metadata": {
      "needs_background": "light"
     },
     "output_type": "display_data"
    }
   ],
   "source": [
    "pd.DataFrame(result)['toxic'].hist()"
   ]
  },
  {
   "cell_type": "markdown",
   "metadata": {},
   "source": [
    "Using balance sampler:"
   ]
  },
  {
   "cell_type": "code",
   "execution_count": 10,
   "metadata": {},
   "outputs": [],
   "source": [
    "train_loader = torch.utils.data.DataLoader(\n",
    "    train_dataset,\n",
    "    batch_size=16,\n",
    "    sampler=BalanceClassSampler(labels=train_dataset.get_labels(), mode='downsampling'),  # here 2 modes: downsampling/upsampling\n",
    "    pin_memory=False,\n",
    "    drop_last=False,\n",
    "    num_workers=2\n",
    ")"
   ]
  },
  {
   "cell_type": "code",
   "execution_count": 11,
   "metadata": {},
   "outputs": [
    {
     "name": "stderr",
     "output_type": "stream",
     "text": [
      "100%|██████████| 2673/2673 [00:03<00:00, 737.42it/s]\n"
     ]
    }
   ],
   "source": [
    "result = {'toxic': []}\n",
    "for labels in tqdm(train_loader, total=len(train_loader)):\n",
    "    result['toxic'].extend(labels.numpy())"
   ]
  },
  {
   "cell_type": "code",
   "execution_count": 12,
   "metadata": {},
   "outputs": [
    {
     "data": {
      "text/plain": [
       "<matplotlib.axes._subplots.AxesSubplot at 0x7fd354886780>"
      ]
     },
     "execution_count": 12,
     "metadata": {},
     "output_type": "execute_result"
    },
    {
     "data": {
      "image/png": "[encoded data removed]",
      "text/plain": [
       "<Figure size 432x288 with 1 Axes>"
      ]
     },
     "metadata": {
      "needs_background": "light"
     },
     "output_type": "display_data"
    }
   ],
   "source": [
    "pd.DataFrame(result)['toxic'].hist()"
   ]
  },
  {
   "cell_type": "markdown",
   "metadata": {},
   "source": [
    "## Now lets to say about distributed usage with this sampler!"
   ]
  },
  {
   "cell_type": "markdown",
   "metadata": {},
   "source": [
    "usually loader:"
   ]
  },
  {
   "cell_type": "code",
   "execution_count": 13,
   "metadata": {},
   "outputs": [],
   "source": [
    "def run_experiment1(device):\n",
    "    if not os.path.exists('experiment1'):\n",
    "        os.makedirs('experiment1')\n",
    "        \n",
    "    train_sampler = torch.utils.data.distributed.DistributedSampler(\n",
    "        train_dataset,\n",
    "        num_replicas=xm.xrt_world_size(),\n",
    "        rank=xm.get_ordinal(),\n",
    "        shuffle=True\n",
    "    )\n",
    "    train_loader = torch.utils.data.DataLoader(\n",
    "        train_dataset,\n",
    "        batch_size=16,\n",
    "        sampler=train_sampler,\n",
    "        pin_memory=False,\n",
    "        drop_last=False,\n",
    "        num_workers=1\n",
    "    )\n",
    "    para_loader = pl.ParallelLoader(train_loader, [device])\n",
    "\n",
    "    result = {'toxic': []}\n",
    "    for labels in para_loader.per_device_loader(device):\n",
    "        result['toxic'].extend(labels.cpu().numpy())\n",
    "    pd.DataFrame(result).to_csv(f'experiment1/result_{datetime.utcnow().microsecond}.csv')"
   ]
  },
  {
   "cell_type": "markdown",
   "metadata": {},
   "source": [
    "modificated distributed loader with balance class:"
   ]
  },
  {
   "cell_type": "code",
   "execution_count": 14,
   "metadata": {},
   "outputs": [],
   "source": [
    "def run_experiment2(device):\n",
    "    if not os.path.exists('experiment2'):\n",
    "        os.makedirs('experiment2')\n",
    "\n",
    "    train_sampler = DistributedSamplerWrapper(\n",
    "        sampler=BalanceClassSampler(labels=train_dataset.get_labels(), mode=\"downsampling\"),\n",
    "        num_replicas=xm.xrt_world_size(),\n",
    "        rank=xm.get_ordinal(),\n",
    "        shuffle=True\n",
    "    )\n",
    "    train_loader = torch.utils.data.DataLoader(\n",
    "        train_dataset,\n",
    "        batch_size=16,\n",
    "        sampler=train_sampler,\n",
    "        pin_memory=False,\n",
    "        drop_last=False,\n",
    "        num_workers=1\n",
    "    )\n",
    "    para_loader = pl.ParallelLoader(train_loader, [device])\n",
    "\n",
    "    result = {'toxic': []}\n",
    "    for labels in para_loader.per_device_loader(device):\n",
    "        result['toxic'].extend(labels.cpu().numpy())\n",
    "    pd.DataFrame(result).to_csv(f'experiment2/result_{datetime.utcnow().microsecond}.csv')"
   ]
  },
  {
   "cell_type": "code",
   "execution_count": 15,
   "metadata": {},
   "outputs": [],
   "source": [
    "def _mp_fn(rank, flags):\n",
    "    device = xm.xla_device()\n",
    "    run_experiment1(device)\n",
    "    run_experiment2(device)\n",
    "\n",
    "FLAGS={}\n",
    "xmp.spawn(_mp_fn, args=(FLAGS,), nprocs=8, start_method='fork')"
   ]
  },
  {
   "cell_type": "code",
   "execution_count": 16,
   "metadata": {},
   "outputs": [
    {
     "data": {
      "text/plain": [
       "<matplotlib.axes._subplots.AxesSubplot at 0x7fd354ed7b38>"
      ]
     },
     "execution_count": 16,
     "metadata": {},
     "output_type": "execute_result"
    },
    {
     "data": {
      "image/png": "[encoded data removed]",
      "text/plain": [
       "<Figure size 432x288 with 1 Axes>"
      ]
     },
     "metadata": {
      "needs_background": "light"
     },
     "output_type": "display_data"
    }
   ],
   "source": [
    "submission = pd.concat([pd.read_csv(path) for path in glob('experiment1/*.csv')])\n",
    "submission['toxic'].hist()"
   ]
  },
  {
   "cell_type": "code",
   "execution_count": 17,
   "metadata": {},
   "outputs": [
    {
     "data": {
      "text/plain": [
       "<matplotlib.axes._subplots.AxesSubplot at 0x7fd354f0c780>"
      ]
     },
     "execution_count": 17,
     "metadata": {},
     "output_type": "execute_result"
    },
    {
     "data": {
      "image/png": "[encoded data removed]",
      "text/plain": [
       "<Figure size 432x288 with 1 Axes>"
      ]
     },
     "metadata": {
      "needs_background": "light"
     },
     "output_type": "display_data"
    }
   ],
   "source": [
    "submission = pd.concat([pd.read_csv(path) for path in glob('experiment2/*.csv')])\n",
    "submission['toxic'].hist()"
   ]
  },
  {
   "cell_type": "markdown",
   "metadata": {},
   "source": [
    "## Thank you for reading my kernel!\n",
    "\n",
    "So, I have demonstrated good technique for you, my friends! It will help you avoid OOM problems with training on full data with balance class even distributed training with TPU!\n",
    "\n",
    "If you like this format of notebooks I would like continue to make kernels with realizations of my ideas."
   ]
  }
 ],
 "metadata": {
  "kernelspec": {
   "display_name": "Python 3",
   "language": "python",
   "name": "python3"
  },
  "language_info": {
   "codemirror_mode": {
    "name": "ipython",
    "version": 3
   },
   "file_extension": ".py",
   "mimetype": "text/x-python",
   "name": "python",
   "nbconvert_exporter": "python",
   "pygments_lexer": "ipython3",
   "version": "3.6.6"
  }
 },
 "nbformat": 4,
 "nbformat_minor": 4
}
