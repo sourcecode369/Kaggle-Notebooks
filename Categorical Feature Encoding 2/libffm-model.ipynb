{
 "cells": [
  {
   "cell_type": "markdown",
   "metadata": {},
   "source": [
    "## Introduction\n",
    "\n",
    "[Field-Aware Factorization](https://www.csie.ntu.edu.tw/~cjlin/libffm) is a powerful representation learning.\n",
    "\n",
    "[Github here.](https://github.com/ycjuan/libffm)\n",
    "\n",
    "This notebook demonstrates a way to use libffm binaries into a Kaggle kernel.\n",
    "\n",
    "Release Notes :\n",
    " - V4 : New version with Out-of-Fold\n",
    " - V6 : fixed the encoder, previous version was kind of a regularizer :) \n",
    " "
   ]
  },
  {
   "cell_type": "code",
   "execution_count": 1,
   "metadata": {
    "_cell_guid": "b1076dfc-b9ad-4769-8c92-a6c4dae69d19",
    "_uuid": "8f2839f25d086af736a60e9eeb907d3b93b6e0e5"
   },
   "outputs": [
    {
     "name": "stdout",
     "output_type": "stream",
     "text": [
      "/kaggle/input/libffm-binaries/ffm-train\n",
      "/kaggle/input/libffm-binaries/ffm-predict\n",
      "/kaggle/input/cat-in-the-dat-ii/sample_submission.csv\n",
      "/kaggle/input/cat-in-the-dat-ii/test.csv\n",
      "/kaggle/input/cat-in-the-dat-ii/train.csv\n"
     ]
    }
   ],
   "source": [
    "import numpy as np\n",
    "import pandas as pd \n",
    "import os\n",
    "for dirname, _, filenames in os.walk('/kaggle/input'):\n",
    "    for filename in filenames:\n",
    "        print(os.path.join(dirname, filename))\n"
   ]
  },
  {
   "cell_type": "markdown",
   "metadata": {},
   "source": [
    "## Read the data"
   ]
  },
  {
   "cell_type": "code",
   "execution_count": 2,
   "metadata": {},
   "outputs": [],
   "source": [
    "train = pd.read_csv('/kaggle/input/cat-in-the-dat-ii/train.csv')\n",
    "test = pd.read_csv('/kaggle/input/cat-in-the-dat-ii/test.csv')\n",
    "test.insert(1, 'target', 0)"
   ]
  },
  {
   "cell_type": "markdown",
   "metadata": {},
   "source": [
    "## Label Encode to ease creation of libffm format"
   ]
  },
  {
   "cell_type": "code",
   "execution_count": 3,
   "metadata": {},
   "outputs": [],
   "source": [
    "features = [_f for _f in train if _f not in ['id', 'target']]\n",
    "\n",
    "def factor_encoding(train, test):\n",
    "    \n",
    "    assert sorted(train.columns) == sorted(test.columns)\n",
    "    \n",
    "    full = pd.concat([train, test], axis=0, sort=False)\n",
    "    # Factorize everything\n",
    "    for f in full:\n",
    "        full[f], _ = pd.factorize(full[f])\n",
    "        full[f] += 1  # make sure no negative\n",
    "        \n",
    "    return full.iloc[:train.shape[0]], full.iloc[train.shape[0]:]\n",
    "\n",
    "train_f, test_f = factor_encoding(train[features], test[features])"
   ]
  },
  {
   "cell_type": "markdown",
   "metadata": {},
   "source": [
    "## Create LibFFM files\n",
    "\n",
    "\n",
    "The data format of LIBFFM has a very special format (taken from [libffm page](https://github.com/ycjuan/libffm)):\n",
    "```\n",
    "<label> <field1>:<feature1>:<value1> <field2>:<feature2>:<value2> ...\n",
    ".\n",
    ".\n",
    ".\n",
    "```\n",
    "\n",
    "`field` and `feature` should be non-negative integers.\n",
    "\n",
    "It is important to understand the difference between `field` and `feature`. For example, if we have a raw data like this:\n",
    "\n",
    "| Click | Advertiser | Publisher |\n",
    "|:-----:|:----------:|:---------:|\n",
    "|    0 |       Nike |       CNN |\n",
    "|    1 |       ESPN |       BBC |\n",
    "\n",
    "Here, we have \n",
    " \n",
    " - 2 fields: Advertiser and Publisher\n",
    " - 4 features: Advertiser-Nike, Advertiser-ESPN, Publisher-CNN, Publisher-BBC\n",
    "\n",
    "Usually you will need to build two dictionares, one for field and one for features, like this:\n",
    "    \n",
    "    DictField[Advertiser] -> 0\n",
    "    DictField[Publisher]  -> 1\n",
    "    \n",
    "    DictFeature[Advertiser-Nike] -> 0\n",
    "    DictFeature[Publisher-CNN]   -> 1\n",
    "    DictFeature[Advertiser-ESPN] -> 2\n",
    "    DictFeature[Publisher-BBC]   -> 3\n",
    "\n",
    "Then, you can generate FFM format data:\n",
    "\n",
    "    0 0:0:1 1:1:1\n",
    "    1 0:2:1 1:3:1\n",
    "\n",
    "Note that because these features are categorical, the values here are all ones.\n",
    "\n",
    "The class defined below go through all features and rows and update a python dicts as new values are encountered."
   ]
  },
  {
   "cell_type": "code",
   "execution_count": 4,
   "metadata": {},
   "outputs": [
    {
     "name": "stdout",
     "output_type": "stream",
     "text": [
      "(480000,) (120000,) (120000,)\n",
      "(480000,) (120000,) (120000,)\n",
      "(480000,) (120000,) (120000,)\n",
      "(480000,) (120000,) (120000,)\n",
      "(480000,) (120000,) (120000,)\n"
     ]
    }
   ],
   "source": [
    "class LibFFMEncoder(object):\n",
    "    def __init__(self):\n",
    "        self.encoder = 1\n",
    "        self.encoding = {}\n",
    "\n",
    "    def encode_for_libffm(self, row):\n",
    "        txt = f\"{row[0]}\"\n",
    "        for i, r in enumerate(row[1:]):\n",
    "            try:\n",
    "                txt += f' {i+1}:{self.encoding[(i, r)]}:1'\n",
    "            except KeyError:\n",
    "                self.encoding[(i, r)] = self.encoder\n",
    "                self.encoder += 1\n",
    "                txt += f' {i+1}:{self.encoding[(i, r)]}:1'\n",
    "\n",
    "        return txt\n",
    "\n",
    "# Create files for testing and OOF\n",
    "from sklearn.model_selection import KFold\n",
    "fold_ids = [\n",
    "    [trn_, val_] for (trn_, val_) in KFold(5,True,1).split(train)\n",
    "]\n",
    "for fold_, (trn_, val_) in enumerate(fold_ids):\n",
    "    # Fit the encoder\n",
    "    encoder = LibFFMEncoder()\n",
    "    libffm_format_trn = pd.concat([train['target'].iloc[trn_], train_f.iloc[trn_]], axis=1).apply(\n",
    "        lambda row: encoder.encode_for_libffm(row), raw=True, axis=1\n",
    "    )\n",
    "    # Encode validation set\n",
    "    libffm_format_val = pd.concat([train['target'].iloc[val_], train_f.iloc[val_]], axis=1).apply(\n",
    "        lambda row: encoder.encode_for_libffm(row), raw=True, axis=1\n",
    "    )\n",
    "    \n",
    "    print(train['target'].iloc[trn_].shape, train['target'].iloc[val_].shape, libffm_format_val.shape)\n",
    "    \n",
    "    libffm_format_trn.to_csv(f'libffm_trn_fold_{fold_+1}.txt', index=False, header=False)\n",
    "    libffm_format_val.to_csv(f'libffm_val_fold_{fold_+1}.txt', index=False, header=False)\n",
    "    \n",
    "    \n",
    "# Create files for final model\n",
    "encoder = LibFFMEncoder()\n",
    "libffm_format_trn = pd.concat([train['target'], train_f], axis=1).apply(\n",
    "        lambda row: encoder.encode_for_libffm(row), raw=True, axis=1\n",
    ")\n",
    "libffm_format_tst = pd.concat([test['target'], test_f], axis=1).apply(\n",
    "    lambda row: encoder.encode_for_libffm(row), raw=True, axis=1\n",
    ")\n",
    "\n",
    "libffm_format_trn.to_csv(f'libffm_trn.txt', index=False, header=False)\n",
    "libffm_format_tst.to_csv(f'libffm_tst.txt', index=False, header=False)"
   ]
  },
  {
   "cell_type": "markdown",
   "metadata": {},
   "source": [
    "## Make ffm-train and ffm-predict excutable"
   ]
  },
  {
   "cell_type": "code",
   "execution_count": 5,
   "metadata": {},
   "outputs": [],
   "source": [
    "!cp /kaggle/input/libffm-binaries/ffm-train .\n",
    "!cp /kaggle/input/libffm-binaries/ffm-predict .\n",
    "!chmod u+x ffm-train\n",
    "!chmod u+x ffm-predict"
   ]
  },
  {
   "cell_type": "markdown",
   "metadata": {},
   "source": [
    "## Run OOF"
   ]
  },
  {
   "cell_type": "code",
   "execution_count": 6,
   "metadata": {},
   "outputs": [
    {
     "name": "stdout",
     "output_type": "stream",
     "text": [
      "First check if the text file has already been converted to binary format (0.0 seconds)\r\n",
      "Binary file NOT found. Convert text file to binary file (3.5 seconds)\r\n",
      "First check if the text file has already been converted to binary format (0.0 seconds)\r\n",
      "Binary file NOT found. Convert text file to binary file (0.9 seconds)\r\n",
      "iter   tr_logloss   va_logloss      tr_time\r\n",
      "   1      0.42856      0.40905         15.2\r\n",
      "   2      0.40279      0.40268         29.6\r\n",
      "   3      0.39916      0.40121         44.5\r\n",
      "   4      0.39644      0.39983         59.3\r\n",
      "   5      0.39326      0.39833         73.6\r\n",
      "   6      0.39011      0.39752         88.3\r\n",
      "   7      0.38750      0.39748        103.3\r\n",
      "logloss = 0.39748\r\n"
     ]
    },
    {
     "data": {
      "text/plain": [
       "(0.3974836592468221, 0.786498277780076)"
      ]
     },
     "execution_count": 6,
     "metadata": {},
     "output_type": "execute_result"
    }
   ],
   "source": [
    "from sklearn.metrics import log_loss, roc_auc_score\n",
    "\n",
    "!./ffm-train -p libffm_val_fold_1.txt -r 0.05 -l 0.00001 -k 50 -t 7 libffm_trn_fold_1.txt libffm_fold_1_model\n",
    "!./ffm-predict libffm_val_fold_1.txt libffm_fold_1_model val_preds_fold_1.txt\n",
    "(\n",
    "    log_loss(train['target'].iloc[fold_ids[0][1]], pd.read_csv('val_preds_fold_1.txt', header=None).values[:,0]),\n",
    "    roc_auc_score(train['target'].iloc[fold_ids[0][1]], pd.read_csv('val_preds_fold_1.txt', header=None).values[:,0])\n",
    ")"
   ]
  },
  {
   "cell_type": "code",
   "execution_count": 7,
   "metadata": {},
   "outputs": [
    {
     "name": "stdout",
     "output_type": "stream",
     "text": [
      "First check if the text file has already been converted to binary format (0.0 seconds)\r\n",
      "Binary file NOT found. Convert text file to binary file (3.5 seconds)\r\n",
      "First check if the text file has already been converted to binary format (0.0 seconds)\r\n",
      "Binary file NOT found. Convert text file to binary file (0.9 seconds)\r\n",
      "iter   tr_logloss   va_logloss      tr_time\r\n",
      "   1      0.42893      0.40702         14.5\r\n",
      "   2      0.40329      0.40086         29.1\r\n",
      "   3      0.39970      0.39950         44.4\r\n",
      "   4      0.39708      0.39783         59.2\r\n",
      "   5      0.39391      0.39636         73.6\r\n",
      "   6      0.39079      0.39530         88.1\r\n",
      "   7      0.38817      0.39508        102.9\r\n",
      "logloss = 0.39508\r\n"
     ]
    },
    {
     "data": {
      "text/plain": [
       "(0.39507581966645594, 0.7885609295518949)"
      ]
     },
     "execution_count": 7,
     "metadata": {},
     "output_type": "execute_result"
    }
   ],
   "source": [
    "!./ffm-train -p libffm_val_fold_2.txt -r 0.05 -l 0.00001 -k 50 -t 7 libffm_trn_fold_2.txt libffm_fold_2_model\n",
    "!./ffm-predict libffm_val_fold_2.txt libffm_fold_2_model val_preds_fold_2.txt\n",
    "(\n",
    "    log_loss(train['target'].iloc[fold_ids[1][1]], pd.read_csv('val_preds_fold_2.txt', header=None).values[:,0]),\n",
    "    roc_auc_score(train['target'].iloc[fold_ids[1][1]], pd.read_csv('val_preds_fold_2.txt', header=None).values[:,0])\n",
    ")"
   ]
  },
  {
   "cell_type": "code",
   "execution_count": 8,
   "metadata": {},
   "outputs": [
    {
     "name": "stdout",
     "output_type": "stream",
     "text": [
      "First check if the text file has already been converted to binary format (0.0 seconds)\r\n",
      "Binary file NOT found. Convert text file to binary file (3.5 seconds)\r\n",
      "First check if the text file has already been converted to binary format (0.0 seconds)\r\n",
      "Binary file NOT found. Convert text file to binary file (0.8 seconds)\r\n",
      "iter   tr_logloss   va_logloss      tr_time\r\n",
      "   1      0.42856      0.40824         14.3\r\n",
      "   2      0.40298      0.40184         28.6\r\n",
      "   3      0.39945      0.40053         43.4\r\n",
      "   4      0.39680      0.39908         57.8\r\n",
      "   5      0.39363      0.39756         72.2\r\n",
      "   6      0.39043      0.39670         86.6\r\n",
      "   7      0.38779      0.39657        101.4\r\n",
      "logloss = 0.39657\r\n"
     ]
    },
    {
     "data": {
      "text/plain": [
       "(0.3965666088899384, 0.7859854083982429)"
      ]
     },
     "execution_count": 8,
     "metadata": {},
     "output_type": "execute_result"
    }
   ],
   "source": [
    "!./ffm-train -p libffm_val_fold_3.txt -r 0.05 -l 0.00001 -k 50 -t 7 libffm_trn_fold_3.txt libffm_fold_3_model\n",
    "!./ffm-predict libffm_val_fold_3.txt libffm_fold_3_model val_preds_fold_3.txt\n",
    "(\n",
    "    log_loss(train['target'].iloc[fold_ids[2][1]], pd.read_csv('val_preds_fold_3.txt', header=None).values[:,0]),\n",
    "    roc_auc_score(train['target'].iloc[fold_ids[2][1]], pd.read_csv('val_preds_fold_3.txt', header=None).values[:,0])\n",
    ")"
   ]
  },
  {
   "cell_type": "code",
   "execution_count": 9,
   "metadata": {},
   "outputs": [
    {
     "name": "stdout",
     "output_type": "stream",
     "text": [
      "First check if the text file has already been converted to binary format (0.0 seconds)\r\n",
      "Binary file NOT found. Convert text file to binary file (3.4 seconds)\r\n",
      "First check if the text file has already been converted to binary format (0.0 seconds)\r\n",
      "Binary file NOT found. Convert text file to binary file (0.8 seconds)\r\n",
      "iter   tr_logloss   va_logloss      tr_time\r\n",
      "   1      0.42814      0.41042         14.5\r\n",
      "   2      0.40242      0.40413         29.0\r\n",
      "   3      0.39874      0.40280         43.9\r\n",
      "   4      0.39600      0.40136         58.3\r\n",
      "   5      0.39274      0.39989         72.4\r\n",
      "   6      0.38957      0.39934         86.9\r\n",
      "   7      0.38701      0.39936        101.6\r\n",
      "logloss = 0.39936\r\n"
     ]
    },
    {
     "data": {
      "text/plain": [
       "(0.39936217602452234, 0.7862040041925855)"
      ]
     },
     "execution_count": 9,
     "metadata": {},
     "output_type": "execute_result"
    }
   ],
   "source": [
    "!./ffm-train -p libffm_val_fold_4.txt -r 0.05 -l 0.00001 -k 50 -t 7 libffm_trn_fold_4.txt libffm_fold_4_model\n",
    "!./ffm-predict libffm_val_fold_4.txt libffm_fold_4_model val_preds_fold_4.txt\n",
    "(\n",
    "    log_loss(train['target'].iloc[fold_ids[3][1]], pd.read_csv('val_preds_fold_4.txt', header=None).values[:,0]),\n",
    "    roc_auc_score(train['target'].iloc[fold_ids[3][1]], pd.read_csv('val_preds_fold_4.txt', header=None).values[:,0])\n",
    ")"
   ]
  },
  {
   "cell_type": "code",
   "execution_count": 10,
   "metadata": {},
   "outputs": [
    {
     "name": "stdout",
     "output_type": "stream",
     "text": [
      "First check if the text file has already been converted to binary format (0.0 seconds)\r\n",
      "Binary file NOT found. Convert text file to binary file (3.5 seconds)\r\n",
      "First check if the text file has already been converted to binary format (0.0 seconds)\r\n",
      "Binary file NOT found. Convert text file to binary file (0.8 seconds)\r\n",
      "iter   tr_logloss   va_logloss      tr_time\r\n",
      "   1      0.42891      0.40734         15.1\r\n",
      "   2      0.40322      0.40085         30.8\r\n",
      "   3      0.39959      0.39974         45.6\r\n",
      "   4      0.39691      0.39812         59.9\r\n",
      "   5      0.39369      0.39662         74.0\r\n",
      "   6      0.39054      0.39579         88.3\r\n",
      "   7      0.38796      0.39573        102.7\r\n",
      "logloss = 0.39573\r\n"
     ]
    },
    {
     "data": {
      "text/plain": [
       "(0.39573211651073126, 0.788560796057336)"
      ]
     },
     "execution_count": 10,
     "metadata": {},
     "output_type": "execute_result"
    }
   ],
   "source": [
    "!./ffm-train -p libffm_val_fold_5.txt -r 0.05 -l 0.00001 -k 50 -t 7 libffm_trn_fold_5.txt libffm_fold_5_model\n",
    "!./ffm-predict libffm_val_fold_5.txt libffm_fold_5_model val_preds_fold_5.txt\n",
    "(\n",
    "    log_loss(train['target'].iloc[fold_ids[4][1]], pd.read_csv('val_preds_fold_5.txt', header=None).values[:,0]),\n",
    "    roc_auc_score(train['target'].iloc[fold_ids[4][1]], pd.read_csv('val_preds_fold_5.txt', header=None).values[:,0])\n",
    ")"
   ]
  },
  {
   "cell_type": "markdown",
   "metadata": {},
   "source": [
    "## Compute OOF score"
   ]
  },
  {
   "cell_type": "code",
   "execution_count": 11,
   "metadata": {},
   "outputs": [
    {
     "name": "stdout",
     "output_type": "stream",
     "text": [
      "0.7871313254064711\n"
     ]
    }
   ],
   "source": [
    "oof_preds = np.zeros(train.shape[0])\n",
    "for fold_, (_, val_) in enumerate(fold_ids):\n",
    "    oof_preds[val_] = pd.read_csv(f'val_preds_fold_{fold_+1}.txt', header=None).values[:, 0]\n",
    "oof_score = roc_auc_score(train['target'], oof_preds)\n",
    "print(oof_score)"
   ]
  },
  {
   "cell_type": "markdown",
   "metadata": {},
   "source": [
    "## Train a libffm model"
   ]
  },
  {
   "cell_type": "code",
   "execution_count": 12,
   "metadata": {},
   "outputs": [
    {
     "name": "stdout",
     "output_type": "stream",
     "text": [
      "First check if the text file has already been converted to binary format (0.0 seconds)\r\n",
      "Binary file NOT found. Convert text file to binary file (4.3 seconds)\r\n",
      "iter   tr_logloss      tr_time\r\n",
      "   1      0.42416         17.7\r\n",
      "   2      0.40157         36.0\r\n",
      "   3      0.39853         53.9\r\n",
      "   4      0.39514         71.5\r\n",
      "   5      0.39180         89.1\r\n",
      "   6      0.38928        107.3\r\n",
      "   7      0.38727        125.0\r\n"
     ]
    }
   ],
   "source": [
    "!./ffm-train -r 0.05 -l 0.00001 -k 50 -t 7 libffm_trn.txt libffm_model"
   ]
  },
  {
   "cell_type": "markdown",
   "metadata": {},
   "source": [
    "## Predict for test set"
   ]
  },
  {
   "cell_type": "code",
   "execution_count": 13,
   "metadata": {},
   "outputs": [
    {
     "name": "stdout",
     "output_type": "stream",
     "text": [
      "logloss = 0.23661\r\n"
     ]
    }
   ],
   "source": [
    "!./ffm-predict libffm_tst.txt libffm_model tst_preds.txt"
   ]
  },
  {
   "cell_type": "markdown",
   "metadata": {},
   "source": [
    "## Prepare submission"
   ]
  },
  {
   "cell_type": "code",
   "execution_count": 14,
   "metadata": {},
   "outputs": [],
   "source": [
    "submission = test[['id']].copy()\n",
    "submission['target'] = pd.read_csv('tst_preds.txt', header=None).values[:,0]\n",
    "submission.to_csv('libffm_prediction.csv', index=False)"
   ]
  },
  {
   "cell_type": "code",
   "execution_count": null,
   "metadata": {},
   "outputs": [],
   "source": []
  }
 ],
 "metadata": {
  "kernelspec": {
   "display_name": "Python 3",
   "language": "python",
   "name": "python3"
  },
  "language_info": {
   "codemirror_mode": {
    "name": "ipython",
    "version": 3
   },
   "file_extension": ".py",
   "mimetype": "text/x-python",
   "name": "python",
   "nbconvert_exporter": "python",
   "pygments_lexer": "ipython3",
   "version": "3.6.6"
  }
 },
 "nbformat": 4,
 "nbformat_minor": 1
}
