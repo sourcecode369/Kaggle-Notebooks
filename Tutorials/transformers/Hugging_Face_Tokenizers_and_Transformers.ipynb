{
  "nbformat": 4,
  "nbformat_minor": 0,
  "metadata": {
    "colab": {
      "name": "Hugging Face - Tokenizers and Transformers.ipynb",
      "provenance": [],
      "authorship_tag": "ABX9TyMsMA9rE/09B+QUXosZO86q",
      "include_colab_link": true
    },
    "kernelspec": {
      "name": "python3",
      "display_name": "Python 3"
    },
    "accelerator": "GPU"
  },
  "cells": [
    {
      "cell_type": "markdown",
      "metadata": {
        "id": "view-in-github",
        "colab_type": "text"
      },
      "source": [
        "<a href=\"https://colab.research.google.com/github/sourcecode369/Kaggle-Notebooks/blob/master/Tutorials/transformers/Hugging_Face_Tokenizers_and_Transformers.ipynb\" target=\"_parent\"><img src=\"https://colab.research.google.com/assets/colab-badge.svg\" alt=\"Open In Colab\"/></a>"
      ]
    },
    {
      "cell_type": "code",
      "metadata": {
        "id": "qFoSlCUXe8nz",
        "colab_type": "code",
        "colab": {
          "base_uri": "https://localhost:8080/",
          "height": 589
        },
        "outputId": "b8a5ad89-791b-47c8-b92f-f4c987493295"
      },
      "source": [
        "!pip install transformers\n",
        "!pip install tokenizers"
      ],
      "execution_count": null,
      "outputs": [
        {
          "output_type": "stream",
          "text": [
            "Collecting transformers\n",
            "\u001b[?25l  Downloading https://files.pythonhosted.org/packages/22/97/7db72a0beef1825f82188a4b923e62a146271ac2ced7928baa4d47ef2467/transformers-2.9.1-py3-none-any.whl (641kB)\n",
            "\r\u001b[K     |▌                               | 10kB 26.9MB/s eta 0:00:01\r\u001b[K     |█                               | 20kB 6.7MB/s eta 0:00:01\r\u001b[K     |█▌                              | 30kB 9.3MB/s eta 0:00:01\r\u001b[K     |██                              | 40kB 11.7MB/s eta 0:00:01\r\u001b[K     |██▌                             | 51kB 7.5MB/s eta 0:00:01\r\u001b[K     |███                             | 61kB 8.8MB/s eta 0:00:01\r\u001b[K     |███▋                            | 71kB 9.9MB/s eta 0:00:01\r\u001b[K     |████                            | 81kB 11.0MB/s eta 0:00:01\r\u001b[K     |████▋                           | 92kB 8.8MB/s eta 0:00:01\r\u001b[K     |█████                           | 102kB 9.6MB/s eta 0:00:01\r\u001b[K     |█████▋                          | 112kB 9.6MB/s eta 0:00:01\r\u001b[K     |██████▏                         | 122kB 9.6MB/s eta 0:00:01\r\u001b[K     |██████▋                         | 133kB 9.6MB/s eta 0:00:01\r\u001b[K     |███████▏                        | 143kB 9.6MB/s eta 0:00:01\r\u001b[K     |███████▋                        | 153kB 9.6MB/s eta 0:00:01\r\u001b[K     |████████▏                       | 163kB 9.6MB/s eta 0:00:01\r\u001b[K     |████████▊                       | 174kB 9.6MB/s eta 0:00:01\r\u001b[K     |█████████▏                      | 184kB 9.6MB/s eta 0:00:01\r\u001b[K     |█████████▊                      | 194kB 9.6MB/s eta 0:00:01\r\u001b[K     |██████████▏                     | 204kB 9.6MB/s eta 0:00:01\r\u001b[K     |██████████▊                     | 215kB 9.6MB/s eta 0:00:01\r\u001b[K     |███████████▎                    | 225kB 9.6MB/s eta 0:00:01\r\u001b[K     |███████████▊                    | 235kB 9.6MB/s eta 0:00:01\r\u001b[K     |████████████▎                   | 245kB 9.6MB/s eta 0:00:01\r\u001b[K     |████████████▊                   | 256kB 9.6MB/s eta 0:00:01\r\u001b[K     |█████████████▎                  | 266kB 9.6MB/s eta 0:00:01\r\u001b[K     |█████████████▉                  | 276kB 9.6MB/s eta 0:00:01\r\u001b[K     |██████████████▎                 | 286kB 9.6MB/s eta 0:00:01\r\u001b[K     |██████████████▉                 | 296kB 9.6MB/s eta 0:00:01\r\u001b[K     |███████████████▎                | 307kB 9.6MB/s eta 0:00:01\r\u001b[K     |███████████████▉                | 317kB 9.6MB/s eta 0:00:01\r\u001b[K     |████████████████▍               | 327kB 9.6MB/s eta 0:00:01\r\u001b[K     |████████████████▉               | 337kB 9.6MB/s eta 0:00:01\r\u001b[K     |█████████████████▍              | 348kB 9.6MB/s eta 0:00:01\r\u001b[K     |█████████████████▉              | 358kB 9.6MB/s eta 0:00:01\r\u001b[K     |██████████████████▍             | 368kB 9.6MB/s eta 0:00:01\r\u001b[K     |███████████████████             | 378kB 9.6MB/s eta 0:00:01\r\u001b[K     |███████████████████▍            | 389kB 9.6MB/s eta 0:00:01\r\u001b[K     |████████████████████            | 399kB 9.6MB/s eta 0:00:01\r\u001b[K     |████████████████████▍           | 409kB 9.6MB/s eta 0:00:01\r\u001b[K     |█████████████████████           | 419kB 9.6MB/s eta 0:00:01\r\u001b[K     |█████████████████████▍          | 430kB 9.6MB/s eta 0:00:01\r\u001b[K     |██████████████████████          | 440kB 9.6MB/s eta 0:00:01\r\u001b[K     |██████████████████████▌         | 450kB 9.6MB/s eta 0:00:01\r\u001b[K     |███████████████████████         | 460kB 9.6MB/s eta 0:00:01\r\u001b[K     |███████████████████████▌        | 471kB 9.6MB/s eta 0:00:01\r\u001b[K     |████████████████████████        | 481kB 9.6MB/s eta 0:00:01\r\u001b[K     |████████████████████████▌       | 491kB 9.6MB/s eta 0:00:01\r\u001b[K     |█████████████████████████       | 501kB 9.6MB/s eta 0:00:01\r\u001b[K     |█████████████████████████▌      | 512kB 9.6MB/s eta 0:00:01\r\u001b[K     |██████████████████████████      | 522kB 9.6MB/s eta 0:00:01\r\u001b[K     |██████████████████████████▌     | 532kB 9.6MB/s eta 0:00:01\r\u001b[K     |███████████████████████████     | 542kB 9.6MB/s eta 0:00:01\r\u001b[K     |███████████████████████████▋    | 552kB 9.6MB/s eta 0:00:01\r\u001b[K     |████████████████████████████    | 563kB 9.6MB/s eta 0:00:01\r\u001b[K     |████████████████████████████▋   | 573kB 9.6MB/s eta 0:00:01\r\u001b[K     |█████████████████████████████   | 583kB 9.6MB/s eta 0:00:01\r\u001b[K     |█████████████████████████████▋  | 593kB 9.6MB/s eta 0:00:01\r\u001b[K     |██████████████████████████████▏ | 604kB 9.6MB/s eta 0:00:01\r\u001b[K     |██████████████████████████████▋ | 614kB 9.6MB/s eta 0:00:01\r\u001b[K     |███████████████████████████████▏| 624kB 9.6MB/s eta 0:00:01\r\u001b[K     |███████████████████████████████▋| 634kB 9.6MB/s eta 0:00:01\r\u001b[K     |████████████████████████████████| 645kB 9.6MB/s \n",
            "\u001b[?25hRequirement already satisfied: filelock in /usr/local/lib/python3.6/dist-packages (from transformers) (3.0.12)\n",
            "Requirement already satisfied: regex!=2019.12.17 in /usr/local/lib/python3.6/dist-packages (from transformers) (2019.12.20)\n",
            "Collecting sentencepiece\n",
            "\u001b[?25l  Downloading https://files.pythonhosted.org/packages/3b/88/49e772d686088e1278766ad68a463513642a2a877487decbd691dec02955/sentencepiece-0.1.90-cp36-cp36m-manylinux1_x86_64.whl (1.1MB)\n",
            "\u001b[K     |████████████████████████████████| 1.1MB 51.9MB/s \n",
            "\u001b[?25hCollecting tokenizers==0.7.0\n",
            "\u001b[?25l  Downloading https://files.pythonhosted.org/packages/14/e5/a26eb4716523808bb0a799fcfdceb6ebf77a18169d9591b2f46a9adb87d9/tokenizers-0.7.0-cp36-cp36m-manylinux1_x86_64.whl (3.8MB)\n",
            "\u001b[K     |████████████████████████████████| 3.8MB 50.2MB/s \n",
            "\u001b[?25hCollecting sacremoses\n",
            "\u001b[?25l  Downloading https://files.pythonhosted.org/packages/7d/34/09d19aff26edcc8eb2a01bed8e98f13a1537005d31e95233fd48216eed10/sacremoses-0.0.43.tar.gz (883kB)\n",
            "\u001b[K     |████████████████████████████████| 890kB 47.5MB/s \n",
            "\u001b[?25hRequirement already satisfied: dataclasses; python_version < \"3.7\" in /usr/local/lib/python3.6/dist-packages (from transformers) (0.7)\n",
            "Requirement already satisfied: numpy in /usr/local/lib/python3.6/dist-packages (from transformers) (1.18.4)\n",
            "Requirement already satisfied: requests in /usr/local/lib/python3.6/dist-packages (from transformers) (2.23.0)\n",
            "Requirement already satisfied: tqdm>=4.27 in /usr/local/lib/python3.6/dist-packages (from transformers) (4.41.1)\n",
            "Requirement already satisfied: six in /usr/local/lib/python3.6/dist-packages (from sacremoses->transformers) (1.12.0)\n",
            "Requirement already satisfied: click in /usr/local/lib/python3.6/dist-packages (from sacremoses->transformers) (7.1.2)\n",
            "Requirement already satisfied: joblib in /usr/local/lib/python3.6/dist-packages (from sacremoses->transformers) (0.14.1)\n",
            "Requirement already satisfied: idna<3,>=2.5 in /usr/local/lib/python3.6/dist-packages (from requests->transformers) (2.9)\n",
            "Requirement already satisfied: chardet<4,>=3.0.2 in /usr/local/lib/python3.6/dist-packages (from requests->transformers) (3.0.4)\n",
            "Requirement already satisfied: urllib3!=1.25.0,!=1.25.1,<1.26,>=1.21.1 in /usr/local/lib/python3.6/dist-packages (from requests->transformers) (1.24.3)\n",
            "Requirement already satisfied: certifi>=2017.4.17 in /usr/local/lib/python3.6/dist-packages (from requests->transformers) (2020.4.5.1)\n",
            "Building wheels for collected packages: sacremoses\n",
            "  Building wheel for sacremoses (setup.py) ... \u001b[?25l\u001b[?25hdone\n",
            "  Created wheel for sacremoses: filename=sacremoses-0.0.43-cp36-none-any.whl size=893260 sha256=d9ded55add0443f17491a84b5df3e90103b321a257572040bfe06b5da2af0990\n",
            "  Stored in directory: /root/.cache/pip/wheels/29/3c/fd/7ce5c3f0666dab31a50123635e6fb5e19ceb42ce38d4e58f45\n",
            "Successfully built sacremoses\n",
            "Installing collected packages: sentencepiece, tokenizers, sacremoses, transformers\n",
            "Successfully installed sacremoses-0.0.43 sentencepiece-0.1.90 tokenizers-0.7.0 transformers-2.9.1\n",
            "Requirement already satisfied: tokenizers in /usr/local/lib/python3.6/dist-packages (0.7.0)\n"
          ],
          "name": "stdout"
        }
      ]
    },
    {
      "cell_type": "code",
      "metadata": {
        "id": "nCuWz-wbfiSL",
        "colab_type": "code",
        "colab": {}
      },
      "source": [
        "from tokenizers import BertWordPieceTokenizer, ByteLevelBPETokenizer, CharBPETokenizer, SentencePieceBPETokenizer\n",
        "from transformers import AutoTokenizer\n",
        "import os\n",
        "import urllib"
      ],
      "execution_count": null,
      "outputs": []
    },
    {
      "cell_type": "code",
      "metadata": {
        "id": "f4gST6fWgKAv",
        "colab_type": "code",
        "colab": {}
      },
      "source": [
        "def download_vocab_files_for_tokenizer(tokenizer, model_type, output_path):\n",
        "    vocab_files_map = tokenizer.pretrained_vocab_files_map\n",
        "    vocab_files = {}\n",
        "    for resource in vocab_files_map.keys():\n",
        "        download_location = vocab_files_map[resource][model_type]\n",
        "        f_path = os.path.join(output_path, os.path.basename(download_location))\n",
        "        urllib.request.urlretrieve(download_location, f_path)\n",
        "        vocab_files[resource] = f_path\n",
        "    return vocab_files\n",
        "\n",
        "model_type = 'bert-base-uncased'\n",
        "output_path = ''\n",
        "tokenizer = AutoTokenizer.from_pretrained(model_type)\n",
        "vocab_files = download_vocab_files_for_tokenizer(tokenizer, model_type, output_path)\n",
        "tokenizer = BertWordPieceTokenizer('bert-base-uncased-vocab.txt',lowercase=True)"
      ],
      "execution_count": null,
      "outputs": []
    },
    {
      "cell_type": "code",
      "metadata": {
        "id": "nwYbb6IUiAH4",
        "colab_type": "code",
        "colab": {}
      },
      "source": [
        "output = tokenizer.encode(\"The future is artificial intelligence. Machine learning is the driving force.\")"
      ],
      "execution_count": null,
      "outputs": []
    },
    {
      "cell_type": "code",
      "metadata": {
        "id": "wSsPLUCZhkyb",
        "colab_type": "code",
        "colab": {
          "base_uri": "https://localhost:8080/",
          "height": 277
        },
        "outputId": "31aec0f8-f0c1-41b5-ae3f-90cb0f3f02cf"
      },
      "source": [
        "list(zip(output.ids, output.tokens))"
      ],
      "execution_count": null,
      "outputs": [
        {
          "output_type": "execute_result",
          "data": {
            "text/plain": [
              "[(101, '[CLS]'),\n",
              " (1996, 'the'),\n",
              " (2925, 'future'),\n",
              " (2003, 'is'),\n",
              " (7976, 'artificial'),\n",
              " (4454, 'intelligence'),\n",
              " (1012, '.'),\n",
              " (3698, 'machine'),\n",
              " (4083, 'learning'),\n",
              " (2003, 'is'),\n",
              " (1996, 'the'),\n",
              " (4439, 'driving'),\n",
              " (2486, 'force'),\n",
              " (1012, '.'),\n",
              " (102, '[SEP]')]"
            ]
          },
          "metadata": {
            "tags": []
          },
          "execution_count": 18
        }
      ]
    },
    {
      "cell_type": "code",
      "metadata": {
        "id": "Zzq6G7s-iWjj",
        "colab_type": "code",
        "colab": {
          "base_uri": "https://localhost:8080/",
          "height": 277
        },
        "outputId": "22a53d43-01fc-446c-b6de-f96767413c2a"
      },
      "source": [
        "list(zip(output.ids, output.type_ids))"
      ],
      "execution_count": null,
      "outputs": [
        {
          "output_type": "execute_result",
          "data": {
            "text/plain": [
              "[(101, 0),\n",
              " (1996, 0),\n",
              " (2925, 0),\n",
              " (2003, 0),\n",
              " (7976, 0),\n",
              " (4454, 0),\n",
              " (1012, 0),\n",
              " (3698, 0),\n",
              " (4083, 0),\n",
              " (2003, 0),\n",
              " (1996, 0),\n",
              " (4439, 0),\n",
              " (2486, 0),\n",
              " (1012, 0),\n",
              " (102, 0)]"
            ]
          },
          "metadata": {
            "tags": []
          },
          "execution_count": 19
        }
      ]
    },
    {
      "cell_type": "code",
      "metadata": {
        "id": "pZDBIrJniv-s",
        "colab_type": "code",
        "colab": {
          "base_uri": "https://localhost:8080/",
          "height": 277
        },
        "outputId": "7dd86365-8356-4226-b1f7-e6bf2cf5497f"
      },
      "source": [
        "list(zip(output.tokens, output.offsets))"
      ],
      "execution_count": null,
      "outputs": [
        {
          "output_type": "execute_result",
          "data": {
            "text/plain": [
              "[('[CLS]', (0, 0)),\n",
              " ('the', (0, 3)),\n",
              " ('future', (4, 10)),\n",
              " ('is', (11, 13)),\n",
              " ('artificial', (14, 24)),\n",
              " ('intelligence', (25, 37)),\n",
              " ('.', (37, 38)),\n",
              " ('machine', (39, 46)),\n",
              " ('learning', (47, 55)),\n",
              " ('is', (56, 58)),\n",
              " ('the', (59, 62)),\n",
              " ('driving', (63, 70)),\n",
              " ('force', (71, 76)),\n",
              " ('.', (76, 77)),\n",
              " ('[SEP]', (0, 0))]"
            ]
          },
          "metadata": {
            "tags": []
          },
          "execution_count": 20
        }
      ]
    },
    {
      "cell_type": "code",
      "metadata": {
        "id": "guON5Vj9jAI6",
        "colab_type": "code",
        "colab": {
          "base_uri": "https://localhost:8080/",
          "height": 277
        },
        "outputId": "d9a447b8-e10b-4434-fda0-8279568efad5"
      },
      "source": [
        "list(zip(output.tokens, output.attention_mask))"
      ],
      "execution_count": null,
      "outputs": [
        {
          "output_type": "execute_result",
          "data": {
            "text/plain": [
              "[('[CLS]', 1),\n",
              " ('the', 1),\n",
              " ('future', 1),\n",
              " ('is', 1),\n",
              " ('artificial', 1),\n",
              " ('intelligence', 1),\n",
              " ('.', 1),\n",
              " ('machine', 1),\n",
              " ('learning', 1),\n",
              " ('is', 1),\n",
              " ('the', 1),\n",
              " ('driving', 1),\n",
              " ('force', 1),\n",
              " ('.', 1),\n",
              " ('[SEP]', 1)]"
            ]
          },
          "metadata": {
            "tags": []
          },
          "execution_count": 21
        }
      ]
    },
    {
      "cell_type": "code",
      "metadata": {
        "id": "73CtM2svjHpS",
        "colab_type": "code",
        "colab": {
          "base_uri": "https://localhost:8080/",
          "height": 277
        },
        "outputId": "0def2953-5c36-45bb-b016-956f6bf7d75a"
      },
      "source": [
        "list(zip(output.tokens, output.special_tokens_mask))"
      ],
      "execution_count": null,
      "outputs": [
        {
          "output_type": "execute_result",
          "data": {
            "text/plain": [
              "[('[CLS]', 1),\n",
              " ('the', 0),\n",
              " ('future', 0),\n",
              " ('is', 0),\n",
              " ('artificial', 0),\n",
              " ('intelligence', 0),\n",
              " ('.', 0),\n",
              " ('machine', 0),\n",
              " ('learning', 0),\n",
              " ('is', 0),\n",
              " ('the', 0),\n",
              " ('driving', 0),\n",
              " ('force', 0),\n",
              " ('.', 0),\n",
              " ('[SEP]', 1)]"
            ]
          },
          "metadata": {
            "tags": []
          },
          "execution_count": 22
        }
      ]
    },
    {
      "cell_type": "code",
      "metadata": {
        "id": "bOdukNJJjMgC",
        "colab_type": "code",
        "colab": {
          "base_uri": "https://localhost:8080/",
          "height": 34
        },
        "outputId": "6b4f31dc-a478-47aa-a1ad-18ddcd5d329c"
      },
      "source": [
        "list(zip(output.tokens, output.overflowing))"
      ],
      "execution_count": null,
      "outputs": [
        {
          "output_type": "execute_result",
          "data": {
            "text/plain": [
              "[]"
            ]
          },
          "metadata": {
            "tags": []
          },
          "execution_count": 23
        }
      ]
    },
    {
      "cell_type": "code",
      "metadata": {
        "id": "E-OdVO9TjS-K",
        "colab_type": "code",
        "colab": {
          "base_uri": "https://localhost:8080/",
          "height": 277
        },
        "outputId": "b977dafc-e109-46e1-8a4b-cdb6002e61dc"
      },
      "source": [
        "list(zip(output.tokens, output.words))"
      ],
      "execution_count": null,
      "outputs": [
        {
          "output_type": "execute_result",
          "data": {
            "text/plain": [
              "[('[CLS]', None),\n",
              " ('the', 0),\n",
              " ('future', 1),\n",
              " ('is', 2),\n",
              " ('artificial', 3),\n",
              " ('intelligence', 4),\n",
              " ('.', 5),\n",
              " ('machine', 6),\n",
              " ('learning', 7),\n",
              " ('is', 8),\n",
              " ('the', 9),\n",
              " ('driving', 10),\n",
              " ('force', 11),\n",
              " ('.', 12),\n",
              " ('[SEP]', None)]"
            ]
          },
          "metadata": {
            "tags": []
          },
          "execution_count": 25
        }
      ]
    },
    {
      "cell_type": "code",
      "metadata": {
        "id": "FHmvOdfNjbBi",
        "colab_type": "code",
        "colab": {}
      },
      "source": [
        ""
      ],
      "execution_count": null,
      "outputs": []
    }
  ]
}