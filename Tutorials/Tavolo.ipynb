{
  "nbformat": 4,
  "nbformat_minor": 0,
  "metadata": {
    "colab": {
      "name": "Tavolo.ipynb",
      "provenance": [],
      "authorship_tag": "ABX9TyM5baK+MZhHCZVcgwhJ++9i",
      "include_colab_link": true
    },
    "kernelspec": {
      "name": "python3",
      "display_name": "Python 3"
    }
  },
  "cells": [
    {
      "cell_type": "markdown",
      "metadata": {
        "id": "view-in-github",
        "colab_type": "text"
      },
      "source": [
        "<a href=\"https://colab.research.google.com/github/sourcecode369/Kaggle-Notebooks/blob/master/Tutorials/Tavolo.ipynb\" target=\"_parent\"><img src=\"https://colab.research.google.com/assets/colab-badge.svg\" alt=\"Open In Colab\"/></a>"
      ]
    },
    {
      "cell_type": "code",
      "metadata": {
        "id": "glYpT1yrIlSx",
        "colab_type": "code",
        "colab": {
          "base_uri": "https://localhost:8080/",
          "height": 104
        },
        "outputId": "bcd7492b-64a5-45d1-9fff-5211a3c6f314"
      },
      "source": [
        "!pip install tavolo"
      ],
      "execution_count": null,
      "outputs": [
        {
          "output_type": "stream",
          "text": [
            "Collecting tavolo\n",
            "  Downloading https://files.pythonhosted.org/packages/c6/4c/52cb230cf8bbddd67b33f3944a2486fb5ffcaf342a244afec6171ae2b8b3/tavolo-0.6.1-py3-none-any.whl\n",
            "Requirement already satisfied: numpy in /usr/local/lib/python3.6/dist-packages (from tavolo) (1.18.4)\n",
            "Installing collected packages: tavolo\n",
            "Successfully installed tavolo-0.6.1\n"
          ],
          "name": "stdout"
        }
      ]
    },
    {
      "cell_type": "code",
      "metadata": {
        "id": "7sW5lQ1JIshX",
        "colab_type": "code",
        "colab": {
          "base_uri": "https://localhost:8080/",
          "height": 34
        },
        "outputId": "8cce9f4f-525a-4e67-ad64-99fa54bb9303"
      },
      "source": [
        "import tensorflow as tf\n",
        "import tavolo as tvl\n",
        "tf.__version__"
      ],
      "execution_count": null,
      "outputs": [
        {
          "output_type": "execute_result",
          "data": {
            "text/plain": [
              "'2.2.0'"
            ]
          },
          "metadata": {
            "tags": []
          },
          "execution_count": 11
        }
      ]
    },
    {
      "cell_type": "code",
      "metadata": {
        "id": "9LSLENCMI7Ys",
        "colab_type": "code",
        "colab": {}
      },
      "source": [
        "(X_train, y_train), (X_test, y_test) = tf.keras.datasets.mnist.load_data()\n",
        "\n",
        "X_train = X_train / 255.0\n",
        "X_test = X_test / 255.0\n",
        "X_train = X_train.reshape(-1,784)\n",
        "X_test = X_test.reshape(-1,784)"
      ],
      "execution_count": null,
      "outputs": []
    },
    {
      "cell_type": "code",
      "metadata": {
        "id": "jQtrgnq3JYAj",
        "colab_type": "code",
        "colab": {}
      },
      "source": [
        "y_train = tf.keras.utils.to_categorical(y_train, num_classes=10)\n",
        "y_test = tf.keras.utils.to_categorical(y_test, num_classes=10)"
      ],
      "execution_count": null,
      "outputs": []
    },
    {
      "cell_type": "code",
      "metadata": {
        "id": "7lWHGrwHJTpB",
        "colab_type": "code",
        "colab": {}
      },
      "source": [
        "# Build model\n",
        "model = tf.keras.Sequential([tf.keras.layers.Input(shape=(784,)),\n",
        "                             tf.keras.layers.Dense(128, activation=tf.nn.relu),\n",
        "                             tf.keras.layers.Dense(10, activation=tf.nn.softmax)])\n",
        "\n",
        "# Must call compile with optimizer before test\n",
        "model.compile(optimizer=tf.keras.optimizers.Adam(lr=0.0002), loss=tf.keras.losses.CategoricalCrossentropy(label_smoothing=0.1), metrics=['accuracy'])"
      ],
      "execution_count": null,
      "outputs": []
    },
    {
      "cell_type": "code",
      "metadata": {
        "id": "F6X8IH6dLSwt",
        "colab_type": "code",
        "colab": {
          "base_uri": "https://localhost:8080/",
          "height": 225
        },
        "outputId": "227836c8-b62a-4809-c327-ca8968b32887"
      },
      "source": [
        "model.fit(X_train, y_train, epochs=10, batch_size=10)"
      ],
      "execution_count": null,
      "outputs": [
        {
          "output_type": "stream",
          "text": [
            "Epoch 1/10\n",
            "6000/6000 [==============================] - 9s 2ms/step - loss: 0.8060 - accuracy: 0.9109\n",
            "Epoch 2/10\n",
            "6000/6000 [==============================] - 9s 2ms/step - loss: 0.6609 - accuracy: 0.9596\n",
            "Epoch 3/10\n",
            "6000/6000 [==============================] - 9s 2ms/step - loss: 0.6255 - accuracy: 0.9720\n",
            "Epoch 4/10\n",
            "6000/6000 [==============================] - 9s 1ms/step - loss: 0.6063 - accuracy: 0.9781\n",
            "Epoch 5/10\n",
            "6000/6000 [==============================] - 9s 2ms/step - loss: 0.5936 - accuracy: 0.9827\n",
            "Epoch 6/10\n",
            "2058/6000 [=========>....................] - ETA: 5s - loss: 0.5839 - accuracy: 0.9861"
          ],
          "name": "stdout"
        }
      ]
    },
    {
      "cell_type": "code",
      "metadata": {
        "id": "cfs9tu7eJl1I",
        "colab_type": "code",
        "colab": {}
      },
      "source": [
        "lr_finder = tvl.learning.LearningRateFinder(model=model)\n",
        "\n",
        "learning_rates, losses = lr_finder.scan(X_train, y_train, min_lr=0.00001, max_lr=0.001, batch_size=128)\n",
        "\n",
        "### Plot the results to choose your learning rate"
      ],
      "execution_count": null,
      "outputs": []
    },
    {
      "cell_type": "code",
      "metadata": {
        "id": "7SexlHYrJ44M",
        "colab_type": "code",
        "colab": {}
      },
      "source": [
        "import matplotlib.pyplot as plt\n",
        "%matplotlib inline"
      ],
      "execution_count": null,
      "outputs": []
    },
    {
      "cell_type": "code",
      "metadata": {
        "id": "t7cBfcd2KF_N",
        "colab_type": "code",
        "colab": {
          "base_uri": "https://localhost:8080/",
          "height": 282
        },
        "outputId": "0c06510b-28cd-440c-e706-60efdf86232e"
      },
      "source": [
        "plt.plot(learning_rates, losses)\n",
        "plt.scatter(learning_rates[losses.index(min(losses))],min(losses),color='r')"
      ],
      "execution_count": null,
      "outputs": [
        {
          "output_type": "execute_result",
          "data": {
            "text/plain": [
              "<matplotlib.collections.PathCollection at 0x7fb55dec6160>"
            ]
          },
          "metadata": {
            "tags": []
          },
          "execution_count": 33
        },
        {
          "output_type": "display_data",
          "data": {
            "image/png": "[encoded data removed]",
            "text/plain": [
              "<Figure size 432x288 with 1 Axes>"
            ]
          },
          "metadata": {
            "tags": [],
            "needs_background": "light"
          }
        }
      ]
    },
    {
      "cell_type": "code",
      "metadata": {
        "id": "_jlj_zdZKQnV",
        "colab_type": "code",
        "colab": {}
      },
      "source": [
        ""
      ],
      "execution_count": null,
      "outputs": []
    }
  ]
}