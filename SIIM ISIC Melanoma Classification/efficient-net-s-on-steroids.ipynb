{
 "cells": [
  {
   "cell_type": "code",
   "execution_count": 1,
   "metadata": {
    "_cell_guid": "b1076dfc-b9ad-4769-8c92-a6c4dae69d19",
    "_uuid": "8f2839f25d086af736a60e9eeb907d3b93b6e0e5"
   },
   "outputs": [
    {
     "name": "stdout",
     "output_type": "stream",
     "text": [
      "\u001b[33mWARNING: You are using pip version 20.1; however, version 20.1.1 is available.\r\n",
      "You should consider upgrading via the '/opt/conda/bin/python3.7 -m pip install --upgrade pip' command.\u001b[0m\r\n"
     ]
    }
   ],
   "source": [
    "!pip install -q efficientnet"
   ]
  },
  {
   "cell_type": "code",
   "execution_count": 2,
   "metadata": {
    "_cell_guid": "79c7e3d0-c299-4dcb-8224-4455121ee9b0",
    "_uuid": "d629ff2d2480ee46fbb7e2d37f6b5fab8052498a"
   },
   "outputs": [
    {
     "name": "stdout",
     "output_type": "stream",
     "text": [
      "CPU times: user 2.46 s, sys: 688 ms, total: 3.14 s\n",
      "Wall time: 7.14 s\n"
     ]
    }
   ],
   "source": [
    "%%time\n",
    "\n",
    "import numpy as np\n",
    "import pandas as pd\n",
    "from matplotlib import pyplot as plt\n",
    "%matplotlib inline\n",
    "\n",
    "import tensorflow as tf\n",
    "from tensorflow.keras import backend as K\n",
    "from tensorflow.keras.mixed_precision import experimental as mixed_precision\n",
    "\n",
    "import efficientnet.tfkeras as efn\n",
    "\n",
    "from sklearn.metrics import (f1_score, \n",
    "                             precision_score, \n",
    "                             recall_score, \n",
    "                             confusion_matrix)\n",
    "\n",
    "from kaggle_datasets import KaggleDatasets\n",
    "\n",
    "import os\n",
    "import re\n",
    "import gc\n",
    "import math\n",
    "gc.enable()\n",
    "import warnings; warnings.simplefilter(\"ignore\")"
   ]
  },
  {
   "cell_type": "code",
   "execution_count": 3,
   "metadata": {},
   "outputs": [
    {
     "name": "stdout",
     "output_type": "stream",
     "text": [
      "Running on TPU  grpc://10.0.0.2:8470\n",
      "REPLICAS:  8\n"
     ]
    }
   ],
   "source": [
    "try:\n",
    "    tpu = tf.distribute.cluster_resolver.TPUClusterResolver(); print('Running on TPU ', tpu.master())\n",
    "except ValueError:\n",
    "    tpu = None\n",
    "if tpu:\n",
    "    tf.config.experimental_connect_to_cluster(tpu)\n",
    "    tf.tpu.experimental.initialize_tpu_system(tpu)\n",
    "    strategy = tf.distribute.experimental.TPUStrategy(tpu)\n",
    "else:\n",
    "    strategy = tf.distribute.get_strategy() \n",
    "print(\"REPLICAS: \", strategy.num_replicas_in_sync)"
   ]
  },
  {
   "cell_type": "code",
   "execution_count": 4,
   "metadata": {},
   "outputs": [
    {
     "name": "stdout",
     "output_type": "stream",
     "text": [
      "Mixed precision enabled\n"
     ]
    }
   ],
   "source": [
    "USE_FLOAT16 = True\n",
    "XLA_ACCELERATE = False\n",
    "if USE_FLOAT16:\n",
    "    if tpu: \n",
    "        policy = tf.keras.mixed_precision.experimental.Policy('mixed_bfloat16')\n",
    "    else: \n",
    "        policy = tf.keras.mixed_precision.experimental.Policy('mixed_float16')\n",
    "    mixed_precision.set_policy(policy)\n",
    "    print('Mixed precision enabled')\n",
    "\n",
    "if XLA_ACCELERATE:\n",
    "    tf.config.optimizer.set_jit(True)\n",
    "    print('Accelerated Linear Algebra enabled')"
   ]
  },
  {
   "cell_type": "code",
   "execution_count": 5,
   "metadata": {},
   "outputs": [],
   "source": [
    "GCS_DS_PATH = KaggleDatasets().get_gcs_path('siim-isic-melanoma-classification')\n",
    "\n",
    "AUTO = tf.data.experimental.AUTOTUNE\n",
    "\n",
    "IMAGE_SIZE = [800, 800]\n",
    "EPOCHS = 20\n",
    "BATCH_SIZE = 32 * strategy.num_replicas_in_sync"
   ]
  },
  {
   "cell_type": "code",
   "execution_count": 6,
   "metadata": {},
   "outputs": [],
   "source": [
    "def get_mat(rotation, shear, height_zoom, width_zoom, height_shift, width_shift):\n",
    "        \n",
    "    rotation = math.pi * rotation / 180.\n",
    "    shear = math.pi * shear / 180.\n",
    "    \n",
    "    c1 = tf.math.cos(rotation)\n",
    "    s1 = tf.math.sin(rotation)\n",
    "    one = tf.constant([1],dtype='float32')\n",
    "    zero = tf.constant([0],dtype='float32')\n",
    "    rotation_matrix = tf.reshape( tf.concat([c1,s1,zero, -s1,c1,zero, zero,zero,one],axis=0),[3,3] )\n",
    "        \n",
    "    c2 = tf.math.cos(shear)\n",
    "    s2 = tf.math.sin(shear)\n",
    "    \n",
    "    shear_matrix = tf.reshape( tf.concat([one,s2,zero, zero,c2,zero, zero,zero,one],axis=0),[3,3] )    \n",
    "    zoom_matrix = tf.reshape( tf.concat([one/height_zoom,zero,zero, zero,one/width_zoom,zero, zero,zero,one],axis=0),[3,3] )\n",
    "    shift_matrix = tf.reshape( tf.concat([one,zero,height_shift, zero,one,width_shift, zero,zero,one],axis=0),[3,3] )\n",
    "    \n",
    "    return K.dot(K.dot(rotation_matrix, shear_matrix), K.dot(zoom_matrix, shift_matrix))\n",
    "\n",
    "def transform(image,label):\n",
    "    DIM = IMAGE_SIZE[0]\n",
    "    XDIM = DIM%2 \n",
    "    \n",
    "    rot = 15. * tf.random.normal([1],dtype='float32')\n",
    "    shr = 5. * tf.random.normal([1],dtype='float32') \n",
    "    h_zoom = 1.0 + tf.random.normal([1],dtype='float32')/10.\n",
    "    w_zoom = 1.0 + tf.random.normal([1],dtype='float32')/10.\n",
    "    h_shift = 16. * tf.random.normal([1],dtype='float32') \n",
    "    w_shift = 16. * tf.random.normal([1],dtype='float32') \n",
    "  \n",
    "    m = get_mat(rot,shr,h_zoom,w_zoom,h_shift,w_shift) \n",
    "\n",
    "    x = tf.repeat( tf.range(DIM//2,-DIM//2,-1), DIM )\n",
    "    y = tf.tile( tf.range(-DIM//2,DIM//2),[DIM] )\n",
    "    z = tf.ones([DIM*DIM],dtype='int32')\n",
    "    idx = tf.stack( [x,y,z] )\n",
    "    \n",
    "    idx2 = K.dot(m,tf.cast(idx,dtype='float32'))\n",
    "    idx2 = K.cast(idx2,dtype='int32')\n",
    "    idx2 = K.clip(idx2,-DIM//2+XDIM+1,DIM//2)\n",
    "    \n",
    "    idx3 = tf.stack( [DIM//2-idx2[0,], DIM//2-1+idx2[1,]] )\n",
    "    d = tf.gather_nd(image,tf.transpose(idx3))\n",
    "        \n",
    "    return tf.reshape(d,[DIM,DIM,3]),label"
   ]
  },
  {
   "cell_type": "code",
   "execution_count": 7,
   "metadata": {},
   "outputs": [],
   "source": [
    "def decode_image(image_data):\n",
    "    image = tf.image.decode_jpeg(image_data, channels=3)\n",
    "    image = tf.cast(image, tf.float32) / 255.0  \n",
    "    image = tf.reshape(image, [1024,1024, 3]) \n",
    "    image = tf.image.resize(image, [800,800])\n",
    "    return image\n",
    "\n",
    "def read_labeled_tfrecord(example):\n",
    "    LABELED_TFREC_FORMAT = {\n",
    "        \"image\": tf.io.FixedLenFeature([], tf.string), \n",
    "        \"target\": tf.io.FixedLenFeature([], tf.int64), \n",
    "    }\n",
    "    example = tf.io.parse_single_example(example, LABELED_TFREC_FORMAT)\n",
    "    image = decode_image(example['image'])\n",
    "    label = tf.cast(example['target'], tf.int32)\n",
    "    return image, label \n",
    "\n",
    "def read_unlabeled_tfrecord(example):\n",
    "    UNLABELED_TFREC_FORMAT = {\n",
    "        \"image\": tf.io.FixedLenFeature([], tf.string), \n",
    "        \"image_name\": tf.io.FixedLenFeature([], tf.string), \n",
    "    }\n",
    "    example = tf.io.parse_single_example(example, UNLABELED_TFREC_FORMAT)\n",
    "    image = decode_image(example['image'])\n",
    "    idnum = example['image_name']\n",
    "    return image, idnum\n",
    "\n",
    "def load_dataset(filenames, labeled=True, ordered=False):\n",
    "    ignore_order = tf.data.Options()\n",
    "    if not ordered:\n",
    "        ignore_order.experimental_deterministic = False\n",
    "    dataset = tf.data.TFRecordDataset(filenames, num_parallel_reads=AUTO)\n",
    "    dataset = dataset.with_options(ignore_order)\n",
    "    dataset = dataset.map(read_labeled_tfrecord if labeled else read_unlabeled_tfrecord, num_parallel_calls=AUTO)\n",
    "    return dataset\n",
    "\n",
    "def data_augment(image, label):\n",
    "    image = tf.image.random_flip_left_right(image)\n",
    "    return image, label   "
   ]
  },
  {
   "cell_type": "code",
   "execution_count": 8,
   "metadata": {},
   "outputs": [],
   "source": [
    "TRAINING_FILENAMES = tf.io.gfile.glob(GCS_DS_PATH + '/tfrecords/train*')\n",
    "TEST_FILENAMES = tf.io.gfile.glob(GCS_DS_PATH + '/tfrecords/test*')"
   ]
  },
  {
   "cell_type": "code",
   "execution_count": 9,
   "metadata": {},
   "outputs": [],
   "source": [
    "def get_training_dataset(TRAINING_FILENAMES=TRAINING_FILENAMES, do_aug=False):\n",
    "    dataset = load_dataset(TRAINING_FILENAMES, labeled=True)\n",
    "    dataset = dataset.map(data_augment, num_parallel_calls=AUTO)\n",
    "    if do_aug: dataset = dataset.map(transform, num_parallel_calls=AUTO)\n",
    "    if len(TRAINING_FILENAMES)>5: \n",
    "        dataset = dataset.repeat() \n",
    "        dataset = dataset.shuffle(2048)\n",
    "    dataset = dataset.batch(BATCH_SIZE)\n",
    "    dataset = dataset.prefetch(AUTO)\n",
    "    return dataset\n",
    "\n",
    "def get_test_dataset(ordered=False):\n",
    "    dataset = load_dataset(TEST_FILENAMES, labeled=False, ordered=ordered)\n",
    "    dataset = dataset.batch(BATCH_SIZE)\n",
    "    dataset = dataset.prefetch(AUTO) \n",
    "    return dataset\n",
    "\n",
    "def count_data_items(filenames):\n",
    "    n = [int(re.compile(r\"-([0-9]*)\\.\").search(filename).group(1)) for filename in filenames]\n",
    "    return np.sum(n)"
   ]
  },
  {
   "cell_type": "code",
   "execution_count": 10,
   "metadata": {},
   "outputs": [
    {
     "name": "stdout",
     "output_type": "stream",
     "text": [
      "Dataset: 33126 training images, 10982 unlabeled test images\n",
      "Training data shapes:\n",
      "(256, 800, 800, 3) (256,)\n",
      "Test data shapes:\n",
      "(256, 800, 800, 3) (256,)\n"
     ]
    }
   ],
   "source": [
    "NUM_TRAINING_IMAGES = count_data_items(TRAINING_FILENAMES)\n",
    "NUM_TEST_IMAGES = count_data_items(TEST_FILENAMES)\n",
    "print('Dataset: {} training images, {} unlabeled test images'.format(NUM_TRAINING_IMAGES, NUM_TEST_IMAGES))\n",
    "\n",
    "print(\"Training data shapes:\")\n",
    "for image, label in get_training_dataset().take(1):\n",
    "    print(image.numpy().shape, label.numpy().shape)\n",
    "\n",
    "print(\"Test data shapes:\")\n",
    "for image, idnum in get_test_dataset().take(1):\n",
    "    print(image.numpy().shape, idnum.numpy().shape)"
   ]
  },
  {
   "cell_type": "code",
   "execution_count": 11,
   "metadata": {},
   "outputs": [],
   "source": [
    "def binary_focal_loss(gamma=2., alpha=.25):\n",
    "    def binary_focal_loss_fixed(y_true, y_pred):\n",
    "        pt_1 = tf.where(tf.equal(y_true, 1), y_pred, tf.ones_like(y_pred))\n",
    "        pt_0 = tf.where(tf.equal(y_true, 0), y_pred, tf.zeros_like(y_pred))\n",
    "        epsilon = K.epsilon()\n",
    "        pt_1 = K.clip(pt_1, epsilon, 1. - epsilon)\n",
    "        pt_0 = K.clip(pt_0, epsilon, 1. - epsilon)\n",
    "        return -K.sum(alpha * K.pow(1. - pt_1, gamma) * K.log(pt_1)) \\\n",
    "               -K.sum((1 - alpha) * K.pow(pt_0, gamma) * K.log(1. - pt_0))\n",
    "    return binary_focal_loss_fixed"
   ]
  },
  {
   "cell_type": "code",
   "execution_count": 12,
   "metadata": {},
   "outputs": [
    {
     "data": {
      "image/png": "[encoded data removed]",
      "text/plain": [
       "<Figure size 432x288 with 1 Axes>"
      ]
     },
     "metadata": {
      "needs_background": "light"
     },
     "output_type": "display_data"
    }
   ],
   "source": [
    "LR_START = 0.00001\n",
    "LR_MAX = 0.00005 * strategy.num_replicas_in_sync\n",
    "LR_MIN = 0.00001\n",
    "LR_RAMPUP_EPOCHS = 4\n",
    "LR_SUSTAIN_EPOCHS = 4\n",
    "LR_EXP_DECAY = .8\n",
    "\n",
    "def lrfn(epoch):\n",
    "    if epoch < LR_RAMPUP_EPOCHS:\n",
    "        lr = (LR_MAX - LR_START) / LR_RAMPUP_EPOCHS * epoch + LR_START\n",
    "    elif epoch < LR_RAMPUP_EPOCHS + LR_SUSTAIN_EPOCHS:\n",
    "        lr = LR_MAX\n",
    "    else:\n",
    "        lr = (LR_MAX - LR_MIN) * LR_EXP_DECAY**(epoch - LR_RAMPUP_EPOCHS - LR_SUSTAIN_EPOCHS) + LR_MIN\n",
    "    return lr\n",
    "lrs = [lrfn(i) for i in range(25)]\n",
    "plt.plot(list(range(25)),lrs)\n",
    "lr_callback = tf.keras.callbacks.LearningRateScheduler(lrfn, verbose = True)"
   ]
  },
  {
   "cell_type": "code",
   "execution_count": 13,
   "metadata": {},
   "outputs": [
    {
     "name": "stdout",
     "output_type": "stream",
     "text": [
      "Downloading data from https://github.com/qubvel/efficientnet/releases/download/v0.0.1/efficientnet-b4_noisy-student_notop.h5\n",
      "71680000/71678424 [==============================] - 3s 0us/step\n",
      "Model: \"sequential\"\n",
      "_________________________________________________________________\n",
      "Layer (type)                 Output Shape              Param #   \n",
      "=================================================================\n",
      "efficientnet-b4 (Model)      (None, 25, 25, 1792)      17673816  \n",
      "_________________________________________________________________\n",
      "global_average_pooling2d (Gl (None, 1792)              0         \n",
      "_________________________________________________________________\n",
      "dense (Dense)                (None, 1)                 1793      \n",
      "=================================================================\n",
      "Total params: 17,675,609\n",
      "Trainable params: 17,550,409\n",
      "Non-trainable params: 125,200\n",
      "_________________________________________________________________\n"
     ]
    }
   ],
   "source": [
    "gc.collect()\n",
    "VER = 'B4'\n",
    "with strategy.scope():\n",
    "    enet = efn.EfficientNetB4(\n",
    "        input_shape=(800, 800, 3),\n",
    "        weights='noisy-student',\n",
    "        include_top=False\n",
    "    )\n",
    "    enet.trainable = True \n",
    "\n",
    "    model = tf.keras.Sequential([\n",
    "        enet,\n",
    "        tf.keras.layers.GlobalAveragePooling2D(),\n",
    "        tf.keras.layers.Dense(1, activation='sigmoid',dtype='float32')\n",
    "    ]) \n",
    "    \n",
    "    sv = tf.keras.callbacks.ModelCheckpoint(\n",
    "        'efn-%s.h5'%(VER), monitor='val_loss', verbose=1, save_best_only=True,\n",
    "        save_weights_only=True, mode='auto', save_freq='epoch')\n",
    "\n",
    "    es = tf.keras.callbacks.EarlyStopping(monitor='val_loss', verbose=1, patience=3,\n",
    "                                      restore_best_weights=True, mode='auto')\n",
    "    \n",
    "    model.compile(\n",
    "        optimizer=tf.keras.optimizers.Adam(lr=0.0001),\n",
    "        loss = [binary_focal_loss(gamma=2., alpha=.25)],\n",
    "        metrics=[\"accuracy\",tf.keras.metrics.AUC()]\n",
    "    )\n",
    "model.summary()"
   ]
  },
  {
   "cell_type": "code",
   "execution_count": 14,
   "metadata": {},
   "outputs": [
    {
     "name": "stdout",
     "output_type": "stream",
     "text": [
      "Train for 129 steps\n",
      "\n",
      "Epoch 00001: LearningRateScheduler reducing learning rate to 1e-05.\n",
      "Epoch 1/20\n",
      "128/129 [============================>.] - ETA: 4s - loss: 1.1884 - accuracy: 0.9211 - auc: 0.5460\n",
      "Epoch 00001: val_loss improved from inf to 1.09764, saving model to efn-B4.h5\n",
      "129/129 [==============================] - 625s 5s/step - loss: 1.1813 - accuracy: 0.9216 - auc: 0.5458 - val_loss: 1.0976 - val_accuracy: 0.9825 - val_auc: 0.5465\n",
      "\n",
      "Epoch 00002: LearningRateScheduler reducing learning rate to 0.0001075.\n",
      "Epoch 2/20\n",
      "128/129 [============================>.] - ETA: 1s - loss: 0.2414 - accuracy: 0.9825 - auc: 0.7852\n",
      "Epoch 00002: val_loss improved from 1.09764 to 0.26581, saving model to efn-B4.h5\n",
      "129/129 [==============================] - 264s 2s/step - loss: 0.2399 - accuracy: 0.9826 - auc: 0.7857 - val_loss: 0.2658 - val_accuracy: 0.9825 - val_auc: 0.6959\n",
      "\n",
      "Epoch 00003: LearningRateScheduler reducing learning rate to 0.000205.\n",
      "Epoch 3/20\n",
      "128/129 [============================>.] - ETA: 1s - loss: 0.2201 - accuracy: 0.9822 - auc: 0.8643\n",
      "Epoch 00003: val_loss improved from 0.26581 to 0.21479, saving model to efn-B4.h5\n",
      "129/129 [==============================] - 294s 2s/step - loss: 0.2199 - accuracy: 0.9823 - auc: 0.8638 - val_loss: 0.2148 - val_accuracy: 0.9825 - val_auc: 0.9087\n",
      "\n",
      "Epoch 00004: LearningRateScheduler reducing learning rate to 0.00030250000000000003.\n",
      "Epoch 4/20\n",
      "128/129 [============================>.] - ETA: 2s - loss: 0.2131 - accuracy: 0.9823 - auc: 0.8747\n",
      "Epoch 00004: val_loss improved from 0.21479 to 0.18011, saving model to efn-B4.h5\n",
      "129/129 [==============================] - 304s 2s/step - loss: 0.2121 - accuracy: 0.9824 - auc: 0.8747 - val_loss: 0.1801 - val_accuracy: 0.9825 - val_auc: 0.9382\n",
      "\n",
      "Epoch 00005: LearningRateScheduler reducing learning rate to 0.0004.\n",
      "Epoch 5/20\n",
      "128/129 [============================>.] - ETA: 2s - loss: 0.2058 - accuracy: 0.9821 - auc: 0.8962\n",
      "Epoch 00005: val_loss improved from 0.18011 to 0.15516, saving model to efn-B4.h5\n",
      "129/129 [==============================] - 334s 3s/step - loss: 0.2061 - accuracy: 0.9821 - auc: 0.8959 - val_loss: 0.1552 - val_accuracy: 0.9827 - val_auc: 0.9556\n",
      "\n",
      "Epoch 00006: LearningRateScheduler reducing learning rate to 0.0004.\n",
      "Epoch 6/20\n",
      "128/129 [============================>.] - ETA: 2s - loss: 0.1862 - accuracy: 0.9829 - auc: 0.9154\n",
      "Epoch 00006: val_loss did not improve from 0.15516\n",
      "129/129 [==============================] - 295s 2s/step - loss: 0.1867 - accuracy: 0.9829 - auc: 0.9154 - val_loss: 0.1552 - val_accuracy: 0.9826 - val_auc: 0.9699\n",
      "\n",
      "Epoch 00007: LearningRateScheduler reducing learning rate to 0.0004.\n",
      "Epoch 7/20\n",
      "128/129 [============================>.] - ETA: 2s - loss: 0.1845 - accuracy: 0.9822 - auc: 0.9268\n",
      "Epoch 00007: val_loss improved from 0.15516 to 0.14450, saving model to efn-B4.h5\n",
      "129/129 [==============================] - 296s 2s/step - loss: 0.1836 - accuracy: 0.9823 - auc: 0.9266 - val_loss: 0.1445 - val_accuracy: 0.9825 - val_auc: 0.9660\n",
      "\n",
      "Epoch 00008: LearningRateScheduler reducing learning rate to 0.0004.\n",
      "Epoch 8/20\n",
      "128/129 [============================>.] - ETA: 2s - loss: 0.1751 - accuracy: 0.9825 - auc: 0.9352\n",
      "Epoch 00008: val_loss improved from 0.14450 to 0.10728, saving model to efn-B4.h5\n",
      "129/129 [==============================] - 331s 3s/step - loss: 0.1744 - accuracy: 0.9826 - auc: 0.9355 - val_loss: 0.1073 - val_accuracy: 0.9867 - val_auc: 0.9844\n",
      "\n",
      "Epoch 00009: LearningRateScheduler reducing learning rate to 0.0004.\n",
      "Epoch 9/20\n",
      "128/129 [============================>.] - ETA: 1s - loss: 0.1632 - accuracy: 0.9832 - auc: 0.9455\n",
      "Epoch 00009: val_loss improved from 0.10728 to 0.10567, saving model to efn-B4.h5\n",
      "129/129 [==============================] - 292s 2s/step - loss: 0.1631 - accuracy: 0.9832 - auc: 0.9458 - val_loss: 0.1057 - val_accuracy: 0.9853 - val_auc: 0.9880\n",
      "\n",
      "Epoch 00010: LearningRateScheduler reducing learning rate to 0.000322.\n",
      "Epoch 10/20\n",
      "128/129 [============================>.] - ETA: 1s - loss: 0.1422 - accuracy: 0.9841 - auc: 0.9659\n",
      "Epoch 00010: val_loss improved from 0.10567 to 0.07773, saving model to efn-B4.h5\n",
      "129/129 [==============================] - 279s 2s/step - loss: 0.1422 - accuracy: 0.9841 - auc: 0.9660 - val_loss: 0.0777 - val_accuracy: 0.9897 - val_auc: 0.9954\n",
      "\n",
      "Epoch 00011: LearningRateScheduler reducing learning rate to 0.0002596000000000001.\n",
      "Epoch 11/20\n",
      "128/129 [============================>.] - ETA: 2s - loss: 0.1308 - accuracy: 0.9849 - auc: 0.9718\n",
      "Epoch 00011: val_loss improved from 0.07773 to 0.07416, saving model to efn-B4.h5\n",
      "129/129 [==============================] - 341s 3s/step - loss: 0.1300 - accuracy: 0.9850 - auc: 0.9720 - val_loss: 0.0742 - val_accuracy: 0.9894 - val_auc: 0.9956\n",
      "\n",
      "Epoch 00012: LearningRateScheduler reducing learning rate to 0.00020968000000000004.\n",
      "Epoch 12/20\n",
      "128/129 [============================>.] - ETA: 1s - loss: 0.1180 - accuracy: 0.9863 - auc: 0.9776\n",
      "Epoch 00012: val_loss improved from 0.07416 to 0.06182, saving model to efn-B4.h5\n",
      "129/129 [==============================] - 289s 2s/step - loss: 0.1175 - accuracy: 0.9864 - auc: 0.9776 - val_loss: 0.0618 - val_accuracy: 0.9896 - val_auc: 0.9969\n",
      "\n",
      "Epoch 00013: LearningRateScheduler reducing learning rate to 0.00016974400000000002.\n",
      "Epoch 13/20\n",
      "128/129 [============================>.] - ETA: 1s - loss: 0.0931 - accuracy: 0.9881 - auc: 0.9878\n",
      "Epoch 00013: val_loss improved from 0.06182 to 0.04000, saving model to efn-B4.h5\n",
      "129/129 [==============================] - 284s 2s/step - loss: 0.0926 - accuracy: 0.9882 - auc: 0.9878 - val_loss: 0.0400 - val_accuracy: 0.9936 - val_auc: 0.9989\n",
      "\n",
      "Epoch 00014: LearningRateScheduler reducing learning rate to 0.00013779520000000003.\n",
      "Epoch 14/20\n",
      "128/129 [============================>.] - ETA: 1s - loss: 0.0846 - accuracy: 0.9899 - auc: 0.9900\n",
      "Epoch 00014: val_loss improved from 0.04000 to 0.03847, saving model to efn-B4.h5\n",
      "129/129 [==============================] - 279s 2s/step - loss: 0.0845 - accuracy: 0.9899 - auc: 0.9901 - val_loss: 0.0385 - val_accuracy: 0.9970 - val_auc: 0.9993\n",
      "\n",
      "Epoch 00015: LearningRateScheduler reducing learning rate to 0.00011223616000000004.\n",
      "Epoch 15/20\n",
      "128/129 [============================>.] - ETA: 2s - loss: 0.0682 - accuracy: 0.9912 - auc: 0.9942\n",
      "Epoch 00015: val_loss improved from 0.03847 to 0.02071, saving model to efn-B4.h5\n",
      "129/129 [==============================] - 330s 3s/step - loss: 0.0679 - accuracy: 0.9912 - auc: 0.9943 - val_loss: 0.0207 - val_accuracy: 0.9975 - val_auc: 0.9998\n",
      "\n",
      "Epoch 00016: LearningRateScheduler reducing learning rate to 9.178892800000003e-05.\n",
      "Epoch 16/20\n",
      "128/129 [============================>.] - ETA: 1s - loss: 0.0574 - accuracy: 0.9930 - auc: 0.9961\n",
      "Epoch 00016: val_loss did not improve from 0.02071\n",
      "129/129 [==============================] - 272s 2s/step - loss: 0.0576 - accuracy: 0.9930 - auc: 0.9960 - val_loss: 0.0270 - val_accuracy: 0.9989 - val_auc: 0.9999\n",
      "\n",
      "Epoch 00017: LearningRateScheduler reducing learning rate to 7.543114240000003e-05.\n",
      "Epoch 17/20\n",
      "128/129 [============================>.] - ETA: 2s - loss: 0.0450 - accuracy: 0.9940 - auc: 0.9977\n",
      "Epoch 00017: val_loss improved from 0.02071 to 0.00910, saving model to efn-B4.h5\n",
      "129/129 [==============================] - 324s 3s/step - loss: 0.0448 - accuracy: 0.9941 - auc: 0.9977 - val_loss: 0.0091 - val_accuracy: 0.9994 - val_auc: 1.0000\n",
      "\n",
      "Epoch 00018: LearningRateScheduler reducing learning rate to 6.234491392000002e-05.\n",
      "Epoch 18/20\n",
      "128/129 [============================>.] - ETA: 2s - loss: 0.0398 - accuracy: 0.9946 - auc: 0.9986\n",
      "Epoch 00018: val_loss did not improve from 0.00910\n",
      "129/129 [==============================] - 297s 2s/step - loss: 0.0396 - accuracy: 0.9947 - auc: 0.9986 - val_loss: 0.0102 - val_accuracy: 0.9994 - val_auc: 1.0000\n",
      "\n",
      "Epoch 00019: LearningRateScheduler reducing learning rate to 5.1875931136000024e-05.\n",
      "Epoch 19/20\n",
      "128/129 [============================>.] - ETA: 2s - loss: 0.0350 - accuracy: 0.9957 - auc: 0.9986\n",
      "Epoch 00019: val_loss improved from 0.00910 to 0.00462, saving model to efn-B4.h5\n",
      "129/129 [==============================] - 339s 3s/step - loss: 0.0348 - accuracy: 0.9958 - auc: 0.9986 - val_loss: 0.0046 - val_accuracy: 1.0000 - val_auc: 1.0000\n",
      "\n",
      "Epoch 00020: LearningRateScheduler reducing learning rate to 4.3500744908800015e-05.\n",
      "Epoch 20/20\n",
      "128/129 [============================>.] - ETA: 2s - loss: 0.0352 - accuracy: 0.9955 - auc: 0.9988\n",
      "Epoch 00020: val_loss improved from 0.00462 to 0.00398, saving model to efn-B4.h5\n",
      "129/129 [==============================] - 298s 2s/step - loss: 0.0351 - accuracy: 0.9955 - auc: 0.9988 - val_loss: 0.0040 - val_accuracy: 1.0000 - val_auc: 1.0000\n"
     ]
    }
   ],
   "source": [
    "import random\n",
    "val_dataset = random.sample(TRAINING_FILENAMES,4)\n",
    "\n",
    "history = model.fit(\n",
    "    get_training_dataset(do_aug=True), \n",
    "    steps_per_epoch= NUM_TRAINING_IMAGES // BATCH_SIZE,\n",
    "    epochs= EPOCHS,\n",
    "    callbacks = [lr_callback, sv, es],\n",
    "    shuffle = True,\n",
    "    verbose = 1,\n",
    "    validation_data = get_training_dataset(val_dataset, do_aug=False)\n",
    ")"
   ]
  },
  {
   "cell_type": "code",
   "execution_count": 15,
   "metadata": {},
   "outputs": [
    {
     "name": "stdout",
     "output_type": "stream",
     "text": [
      "Computing predictions...\n",
      "[0.02995113 0.00700551 0.00956714 ... 0.08052039 0.00971207 0.00414497]\n",
      "Generating submission.csv file...\n",
      "image_name,target\r\n",
      "ISIC_6381819,0.000897\r\n",
      "ISIC_5583376,0.000049\r\n",
      "ISIC_6408546,0.000092\r\n",
      "ISIC_6932354,0.000085\r\n",
      "ISIC_8191278,0.000498\r\n",
      "ISIC_9978346,0.000001\r\n",
      "ISIC_1469194,0.000155\r\n",
      "ISIC_0394763,0.000039\r\n",
      "ISIC_9846836,0.000102\r\n"
     ]
    }
   ],
   "source": [
    "model.load_weights('efn-%s.h5'%(VER))\n",
    "test_ds = get_test_dataset(ordered=True)\n",
    "\n",
    "print('Computing predictions...')\n",
    "test_images_ds = test_ds.map(lambda image, idnum: image)\n",
    "probabilities = model.predict(test_images_ds).flatten()\n",
    "print(probabilities)\n",
    "\n",
    "print('Generating submission.csv file...')\n",
    "test_ids_ds = test_ds.map(lambda image, idnum: idnum).unbatch()\n",
    "test_ids = next(iter(test_ids_ds.batch(NUM_TEST_IMAGES))).numpy().astype('U') \n",
    "np.savetxt('submission.csv', np.rec.fromarrays([test_ids, probabilities**2]), fmt=['%s', '%f'], delimiter=',', header='image_name,target', comments='')\n",
    "!head submission.csv"
   ]
  },
  {
   "cell_type": "code",
   "execution_count": null,
   "metadata": {},
   "outputs": [],
   "source": []
  }
 ],
 "metadata": {
  "kernelspec": {
   "display_name": "Python 3",
   "language": "python",
   "name": "python3"
  },
  "language_info": {
   "codemirror_mode": {
    "name": "ipython",
    "version": 3
   },
   "file_extension": ".py",
   "mimetype": "text/x-python",
   "name": "python",
   "nbconvert_exporter": "python",
   "pygments_lexer": "ipython3",
   "version": "3.7.6"
  }
 },
 "nbformat": 4,
 "nbformat_minor": 4
}
