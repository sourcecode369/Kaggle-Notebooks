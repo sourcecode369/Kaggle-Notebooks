{
 "cells": [
  {
   "cell_type": "markdown",
   "execution_count": null,
   "metadata": {},
   "source": [
    "# Objective\n",
    "\n",
    "This notebook is not intended to give a high leaderboard or show an awesome blend. \n",
    "\n",
    "In this notebook i will use 2 public submissions that score 0.940 and 0.936 and 3 personal submissions. Blending and don't knowing the cv and the cv strategy of this models is a horrible idea because they are probably overtiffing. \n",
    "\n",
    "The main idea of this notebook is to talk about the predictions distribution. The predictions have different distribution so combining them in the form x1*w1 + x2*w2 + .... + xn*wn is not recommended at all. Receiver Operating Characteristic area under the curve is sensible to this distribution. For this we should first rank each of this vector and then blend the predictions in the form x1*w1 + x2*w2 + .... + xn*wn. This is just an example of how you should do that."
   ]
  },
  {
   "cell_type": "code",
   "execution_count": 1,
   "metadata": {
    "_cell_guid": "b1076dfc-b9ad-4769-8c92-a6c4dae69d19",
    "_uuid": "8f2839f25d086af736a60e9eeb907d3b93b6e0e5"
   },
   "outputs": [],
   "source": [
    "import pandas as pd\n",
    "import numpy as np"
   ]
  },
  {
   "cell_type": "code",
   "execution_count": 2,
   "metadata": {
    "_cell_guid": "79c7e3d0-c299-4dcb-8224-4455121ee9b0",
    "_uuid": "d629ff2d2480ee46fbb7e2d37f6b5fab8052498a"
   },
   "outputs": [],
   "source": [
    "sub1 = pd.read_csv('../input/melanoma-dif-sub/pl_0.936.csv')\n",
    "sub2 = pd.read_csv('../input/melanoma-dif-sub/pl_0.940.csv')\n",
    "sub3 = pd.read_csv('../input/melanoma-dif-sub/sub_EfficientNetB2_384.csv')\n",
    "sub4 = pd.read_csv('../input/melanoma-dif-sub/sub_EfficientNetB3_384.csv')\n",
    "sub5 = pd.read_csv('../input/melanoma-dif-sub/sub_EfficientNetB3_384_v2.csv')\n",
    "\n",
    "# lets rank each prediction and then divide it by its max value to we have our predictions between 0 and 1\n",
    "def rank_data(sub):\n",
    "    sub['target'] = sub['target'].rank() / sub['target'].rank().max()\n",
    "    return sub\n",
    "\n",
    "sub1 = rank_data(sub1)\n",
    "sub2 = rank_data(sub2)\n",
    "sub3 = rank_data(sub3)\n",
    "sub4 = rank_data(sub4)\n",
    "sub5 = rank_data(sub5)\n",
    "sub1.columns = ['image_name', 'target1']\n",
    "sub2.columns = ['image_name', 'target2']\n",
    "sub3.columns = ['image_name', 'target3']\n",
    "sub4.columns = ['image_name', 'target4']\n",
    "sub5.columns = ['image_name', 'target5']\n",
    "\n",
    "f_sub = sub1.merge(sub2, on = 'image_name').merge(sub3, on = 'image_name').merge(sub4, on = 'image_name').merge(sub5, on = 'image_name')\n",
    "f_sub['target'] = f_sub['target1'] * 0.3 + f_sub['target2'] * 0.3 + f_sub['target3'] * 0.05 + f_sub['target4'] * 0.3 + f_sub['target5'] * 0.05\n",
    "f_sub = f_sub[['image_name', 'target']]\n",
    "f_sub.to_csv('blend_sub.csv', index = False)"
   ]
  }
 ],
 "metadata": {
  "kernelspec": {
   "display_name": "Python 3",
   "language": "python",
   "name": "python3"
  },
  "language_info": {
   "codemirror_mode": {
    "name": "ipython",
    "version": 3
   },
   "file_extension": ".py",
   "mimetype": "text/x-python",
   "name": "python",
   "nbconvert_exporter": "python",
   "pygments_lexer": "ipython3",
   "version": "3.7.6"
  }
 },
 "nbformat": 4,
 "nbformat_minor": 4
}
